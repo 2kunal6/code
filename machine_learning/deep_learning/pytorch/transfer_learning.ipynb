{
  "nbformat": 4,
  "nbformat_minor": 0,
  "metadata": {
    "colab": {
      "name": "transfer_learning.ipynb",
      "provenance": [],
      "collapsed_sections": []
    },
    "kernelspec": {
      "name": "python3",
      "display_name": "Python 3"
    },
    "accelerator": "GPU"
  },
  "cells": [
    {
      "cell_type": "code",
      "metadata": {
        "id": "kBKqvrQviypU",
        "colab_type": "code",
        "outputId": "def3a65a-6110-4ad4-a176-085f37fed586",
        "colab": {
          "base_uri": "https://localhost:8080/",
          "height": 884
        }
      },
      "source": [
        "import glob \n",
        "import zipfile\n",
        "import numpy as np\n",
        "import cv2\n",
        "import os\n",
        "import time\n",
        "\n",
        "from tqdm import tqdm\n",
        "import torch\n",
        "import torch.nn as nn\n",
        "import torch.nn.functional as F\n",
        "import torch.optim as optim\n",
        "from torchvision import models\n",
        "\n",
        "import pandas as pd\n",
        "from sklearn.model_selection import train_test_split\n",
        "\n",
        "\n",
        "data_root_path = 'drive/My Drive/colab_data/dogs-vs-cats/numpy_folder/'\n",
        "\n",
        "train_data = []     \n",
        "def read_data_from_npy_zip():\n",
        "    for f in tqdm(os.listdir(data_root_path)):\n",
        "      path = os.path.join(data_root_path, f)\n",
        "      train_data.extend(np.load(path, allow_pickle=True))\n",
        "\n",
        "read_data_from_npy_zip()\n",
        "\n",
        "np.random.shuffle(train_data)\n",
        "print(len(train_data), train_data[0])"
      ],
      "execution_count": 2,
      "outputs": [
        {
          "output_type": "stream",
          "text": [
            "100%|██████████| 26/26 [01:33<00:00,  3.60s/it]"
          ],
          "name": "stderr"
        },
        {
          "output_type": "stream",
          "text": [
            "25000 [array([[[ 65, 130, 121],\n",
            "        [ 55, 124, 115],\n",
            "        [ 41, 112, 102],\n",
            "        ...,\n",
            "        [ 74, 120, 114],\n",
            "        [ 74, 119, 113],\n",
            "        [ 68, 112, 106]],\n",
            "\n",
            "       [[ 60, 126, 115],\n",
            "        [ 54, 123, 112],\n",
            "        [ 41, 110,  99],\n",
            "        ...,\n",
            "        [ 76, 120, 114],\n",
            "        [ 77, 120, 114],\n",
            "        [ 76, 117, 112]],\n",
            "\n",
            "       [[ 45, 110,  99],\n",
            "        [ 45, 113, 102],\n",
            "        [ 42, 111, 100],\n",
            "        ...,\n",
            "        [ 76, 118, 112],\n",
            "        [ 77, 118, 113],\n",
            "        [ 76, 116, 111]],\n",
            "\n",
            "       ...,\n",
            "\n",
            "       [[ 58,  75, 101],\n",
            "        [ 58,  75, 101],\n",
            "        [ 36,  51,  77],\n",
            "        ...,\n",
            "        [ 30,  41,  53],\n",
            "        [ 63,  73,  83],\n",
            "        [ 41,  47,  58]],\n",
            "\n",
            "       [[ 35,  52,  78],\n",
            "        [ 32,  49,  75],\n",
            "        [ 14,  28,  54],\n",
            "        ...,\n",
            "        [ 58,  66,  79],\n",
            "        [ 45,  53,  63],\n",
            "        [ 52,  59,  70]],\n",
            "\n",
            "       [[ 45,  62,  88],\n",
            "        [ 28,  45,  71],\n",
            "        [ 75,  90, 116],\n",
            "        ...,\n",
            "        [ 90,  94, 108],\n",
            "        [ 64,  69,  80],\n",
            "        [ 66,  72,  83]]], dtype=uint8)\n",
            " array([1., 0.])]\n"
          ],
          "name": "stdout"
        },
        {
          "output_type": "stream",
          "text": [
            "\n"
          ],
          "name": "stderr"
        }
      ]
    },
    {
      "cell_type": "code",
      "metadata": {
        "id": "nw4rXfzfMIEw",
        "colab_type": "code",
        "outputId": "f9255e2d-22b7-4e80-be95-0a30dfd19588",
        "colab": {
          "base_uri": "https://localhost:8080/",
          "height": 388
        }
      },
      "source": [
        "if torch.cuda.is_available():\n",
        "    device = torch.device(\"cuda:0\")  # you can continue going on here, like cuda:1 cuda:2....etc. \n",
        "    print(\"Running on the GPU\")\n",
        "else:\n",
        "    device = torch.device(\"cpu\")\n",
        "    print(\"Running on the CPU\")\n",
        "  \n",
        "\n",
        "all_X = torch.Tensor([i[0] for i in train_data]).view(-1, IMAGE_SIZE)\n",
        "all_X = all_X/255.0\n",
        "all_y = torch.Tensor([i[1] for i in train_data])\n",
        "\n",
        "X_train, X_test, y_train, y_test = train_test_split(all_X, all_y, test_size=0.1, stratify=all_y)\n",
        "\n",
        "\n",
        "net = models.resnet18(pretrained=True).to(device)\n",
        "# Here the size of each output sample is set to 2.\n",
        "# Alternatively, it can be generalized to nn.Linear(num_ftrs, len(class_names)).\n",
        "net.fc = nn.Linear(net.fc.in_features, 2)\n",
        "\n",
        "\n",
        "def run(X, y, is_training=True):\n",
        "    \n",
        "    optimizer = optim.Adam(net.parameters(), lr=0.001)\n",
        "    loss_function = nn.MSELoss()\n",
        "    \n",
        "    if is_training:\n",
        "        net.zero_grad()\n",
        "        optimizer.zero_grad()\n",
        "        \n",
        "    outputs = net(X)\n",
        "    matches  = [torch.argmax(i)==torch.argmax(j) for i, j in zip(outputs, y)]\n",
        "    acc = matches.count(True)/len(matches)\n",
        "    loss = loss_function(outputs, y)\n",
        "\n",
        "    if is_training:\n",
        "        loss.backward()\n",
        "        optimizer.step()\n",
        "\n",
        "    return acc, loss\n",
        "\n",
        "def batch_and_run(X, y, is_training=True):\n",
        "    BATCH_SIZE = 64\n",
        "    for i in tqdm(range(0, len(X), BATCH_SIZE)): \n",
        "        batch_X = X[i:i+BATCH_SIZE].view(-1, IMAGE_SIZE).to(device)\n",
        "        batch_y = y[i:i+BATCH_SIZE].to(device)\n",
        "            \n",
        "        return run(batch_X, batch_y, is_training)\n",
        "\n",
        "\n",
        "def train(net):\n",
        "    EPOCHS = 20  \n",
        "    for epoch in range(EPOCHS):\n",
        "        acc, loss = batch_and_run(X_train, y_train, True)\n",
        "        val_acc, val_loss = batch_and_run(X_test, y_test, False)\n",
        "        print(f\"Epoch: {epoch}, {round(time.time(),3)},{round(float(acc),2)},{round(float(loss), 4)},{round(float(val_acc),2)},{round(float(val_loss),4)}\\n\")\n",
        "        \n",
        "train(net)\n",
        "\n",
        "\n",
        "predictions=[]\n",
        "id_line=[]\n",
        "def test(net):\n",
        "    for f in os.listdir(test_path):\n",
        "        id_line.append(f.split('.')[0])\n",
        "        path = os.path.join(test_path, f)\n",
        "        img=cv2.imread(path, cv2.IMREAD_GRAYSCALE)\n",
        "        img=cv2.resize(img, (50, 50))\n",
        "        test_X = torch.Tensor(img).view(-1, IMAGE_SIZE)\n",
        "        test_X = test_X.to(device)\n",
        "        net_out = net(test_X)\n",
        "        \n",
        "        predictions.append(torch.argmax(net_out))\n",
        "\n",
        "test(net)\n",
        "\n",
        "predicted_val = [x.tolist() for x in predictions]\n",
        "print(predicted_val)"
      ],
      "execution_count": 0,
      "outputs": [
        {
          "output_type": "stream",
          "text": [
            "Running on the GPU\n"
          ],
          "name": "stdout"
        },
        {
          "output_type": "error",
          "ename": "AttributeError",
          "evalue": "ignored",
          "traceback": [
            "\u001b[0;31m---------------------------------------------------------------------------\u001b[0m",
            "\u001b[0;31mAttributeError\u001b[0m                            Traceback (most recent call last)",
            "\u001b[0;32m<ipython-input-4-8730720fa776>\u001b[0m in \u001b[0;36m<module>\u001b[0;34m()\u001b[0m\n\u001b[1;32m     20\u001b[0m \u001b[0;34m\u001b[0m\u001b[0m\n\u001b[1;32m     21\u001b[0m \u001b[0mfirst_conv_layer\u001b[0m \u001b[0;34m=\u001b[0m \u001b[0;34m[\u001b[0m\u001b[0mnn\u001b[0m\u001b[0;34m.\u001b[0m\u001b[0mConv2d\u001b[0m\u001b[0;34m(\u001b[0m\u001b[0;36m1\u001b[0m\u001b[0;34m,\u001b[0m \u001b[0;36m3\u001b[0m\u001b[0;34m,\u001b[0m \u001b[0mkernel_size\u001b[0m\u001b[0;34m=\u001b[0m\u001b[0;36m3\u001b[0m\u001b[0;34m,\u001b[0m \u001b[0mstride\u001b[0m\u001b[0;34m=\u001b[0m\u001b[0;36m1\u001b[0m\u001b[0;34m,\u001b[0m \u001b[0mpadding\u001b[0m\u001b[0;34m=\u001b[0m\u001b[0;36m1\u001b[0m\u001b[0;34m,\u001b[0m \u001b[0mdilation\u001b[0m\u001b[0;34m=\u001b[0m\u001b[0;36m1\u001b[0m\u001b[0;34m,\u001b[0m \u001b[0mgroups\u001b[0m\u001b[0;34m=\u001b[0m\u001b[0;36m1\u001b[0m\u001b[0;34m,\u001b[0m \u001b[0mbias\u001b[0m\u001b[0;34m=\u001b[0m\u001b[0;32mTrue\u001b[0m\u001b[0;34m)\u001b[0m\u001b[0;34m]\u001b[0m\u001b[0;34m\u001b[0m\u001b[0;34m\u001b[0m\u001b[0m\n\u001b[0;32m---> 22\u001b[0;31m \u001b[0mfirst_conv_layer\u001b[0m\u001b[0;34m.\u001b[0m\u001b[0mextend\u001b[0m\u001b[0;34m(\u001b[0m\u001b[0mlist\u001b[0m\u001b[0;34m(\u001b[0m\u001b[0mnet\u001b[0m\u001b[0;34m.\u001b[0m\u001b[0mfeatures\u001b[0m\u001b[0;34m)\u001b[0m\u001b[0;34m)\u001b[0m\u001b[0;34m\u001b[0m\u001b[0;34m\u001b[0m\u001b[0m\n\u001b[0m\u001b[1;32m     23\u001b[0m \u001b[0mnet\u001b[0m\u001b[0;34m.\u001b[0m\u001b[0mfeatures\u001b[0m\u001b[0;34m=\u001b[0m \u001b[0mnn\u001b[0m\u001b[0;34m.\u001b[0m\u001b[0mSequential\u001b[0m\u001b[0;34m(\u001b[0m\u001b[0;34m*\u001b[0m\u001b[0mfirst_conv_layer\u001b[0m \u001b[0;34m)\u001b[0m\u001b[0;34m\u001b[0m\u001b[0;34m\u001b[0m\u001b[0m\n\u001b[1;32m     24\u001b[0m \u001b[0;34m\u001b[0m\u001b[0m\n",
            "\u001b[0;32m/usr/local/lib/python3.6/dist-packages/torch/nn/modules/module.py\u001b[0m in \u001b[0;36m__getattr__\u001b[0;34m(self, name)\u001b[0m\n\u001b[1;32m    592\u001b[0m                 \u001b[0;32mreturn\u001b[0m \u001b[0mmodules\u001b[0m\u001b[0;34m[\u001b[0m\u001b[0mname\u001b[0m\u001b[0;34m]\u001b[0m\u001b[0;34m\u001b[0m\u001b[0;34m\u001b[0m\u001b[0m\n\u001b[1;32m    593\u001b[0m         raise AttributeError(\"'{}' object has no attribute '{}'\".format(\n\u001b[0;32m--> 594\u001b[0;31m             type(self).__name__, name))\n\u001b[0m\u001b[1;32m    595\u001b[0m \u001b[0;34m\u001b[0m\u001b[0m\n\u001b[1;32m    596\u001b[0m     \u001b[0;32mdef\u001b[0m \u001b[0m__setattr__\u001b[0m\u001b[0;34m(\u001b[0m\u001b[0mself\u001b[0m\u001b[0;34m,\u001b[0m \u001b[0mname\u001b[0m\u001b[0;34m,\u001b[0m \u001b[0mvalue\u001b[0m\u001b[0;34m)\u001b[0m\u001b[0;34m:\u001b[0m\u001b[0;34m\u001b[0m\u001b[0;34m\u001b[0m\u001b[0m\n",
            "\u001b[0;31mAttributeError\u001b[0m: 'ResNet' object has no attribute 'features'"
          ]
        }
      ]
    }
  ]
}