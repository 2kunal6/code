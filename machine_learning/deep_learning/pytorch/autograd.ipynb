{
  "nbformat": 4,
  "nbformat_minor": 0,
  "metadata": {
    "colab": {
      "name": "autograd.ipynb",
      "provenance": [],
      "authorship_tag": "ABX9TyNym2gHikI4d20/Xly7MsPK",
      "include_colab_link": true
    },
    "kernelspec": {
      "name": "python3",
      "display_name": "Python 3"
    }
  },
  "cells": [
    {
      "cell_type": "markdown",
      "metadata": {
        "id": "view-in-github",
        "colab_type": "text"
      },
      "source": [
        "<a href=\"https://colab.research.google.com/github/2kunal6/code/blob/master/ml/deep_learning/tensorflow/autograd.ipynb\" target=\"_parent\"><img src=\"https://colab.research.google.com/assets/colab-badge.svg\" alt=\"Open In Colab\"/></a>"
      ]
    },
    {
      "cell_type": "code",
      "metadata": {
        "id": "aww8IUqNU8Oc",
        "colab_type": "code",
        "colab": {
          "base_uri": "https://localhost:8080/",
          "height": 1000
        },
        "outputId": "70c0e13c-c424-431e-e863-14908cce91ea"
      },
      "source": [
        "import torch\n",
        "\n",
        "x = torch.tensor([1,2,3,5], dtype=torch.float32)\n",
        "# y=x*2\n",
        "y = torch.tensor([2,4,6,10], dtype=torch.float32)\n",
        "\n",
        "w = torch.tensor([0.0], dtype=torch.float32, requires_grad=True)\n",
        "\n",
        "def forward(x):\n",
        "  return w*x\n",
        "\n",
        "# MSE\n",
        "def calc_loss(y, y_pred):\n",
        "  return ((y-y_pred)**2).mean()\n",
        "\n",
        "print(\"prediction before training : \", forward(10))\n",
        "\n",
        "learning_rate = 0.01\n",
        "\n",
        "for epoch in range(60):\n",
        "  y_pred = forward(x)\n",
        "\n",
        "  loss = calc_loss(y, y_pred)\n",
        "\n",
        "  loss.backward()\n",
        "\n",
        "  with torch.no_grad():\n",
        "    w -= learning_rate * w.grad\n",
        "\n",
        "  w.grad.data.zero_()\n",
        "\n",
        "  print(\"epoch : \", epoch, \"weight : \", w, \"loss : \", loss)\n",
        "\n",
        "print(\"prediction after training : \", forward(10))"
      ],
      "execution_count": 6,
      "outputs": [
        {
          "output_type": "stream",
          "text": [
            "prediction before training :  tensor([0.], grad_fn=<MulBackward0>)\n",
            "epoch :  0 weight :  tensor([0.3900], requires_grad=True) loss :  tensor(39., grad_fn=<MeanBackward0>)\n",
            "epoch :  1 weight :  tensor([0.7039], requires_grad=True) loss :  tensor(25.2730, grad_fn=<MeanBackward0>)\n",
            "epoch :  2 weight :  tensor([0.9567], requires_grad=True) loss :  tensor(16.3775, grad_fn=<MeanBackward0>)\n",
            "epoch :  3 weight :  tensor([1.1601], requires_grad=True) loss :  tensor(10.6130, grad_fn=<MeanBackward0>)\n",
            "epoch :  4 weight :  tensor([1.3239], requires_grad=True) loss :  tensor(6.8775, grad_fn=<MeanBackward0>)\n",
            "epoch :  5 weight :  tensor([1.4557], requires_grad=True) loss :  tensor(4.4568, grad_fn=<MeanBackward0>)\n",
            "epoch :  6 weight :  tensor([1.5619], requires_grad=True) loss :  tensor(2.8881, grad_fn=<MeanBackward0>)\n",
            "epoch :  7 weight :  tensor([1.6473], requires_grad=True) loss :  tensor(1.8716, grad_fn=<MeanBackward0>)\n",
            "epoch :  8 weight :  tensor([1.7161], requires_grad=True) loss :  tensor(1.2128, grad_fn=<MeanBackward0>)\n",
            "epoch :  9 weight :  tensor([1.7714], requires_grad=True) loss :  tensor(0.7859, grad_fn=<MeanBackward0>)\n",
            "epoch :  10 weight :  tensor([1.8160], requires_grad=True) loss :  tensor(0.5093, grad_fn=<MeanBackward0>)\n",
            "epoch :  11 weight :  tensor([1.8519], requires_grad=True) loss :  tensor(0.3300, grad_fn=<MeanBackward0>)\n",
            "epoch :  12 weight :  tensor([1.8808], requires_grad=True) loss :  tensor(0.2139, grad_fn=<MeanBackward0>)\n",
            "epoch :  13 weight :  tensor([1.9040], requires_grad=True) loss :  tensor(0.1386, grad_fn=<MeanBackward0>)\n",
            "epoch :  14 weight :  tensor([1.9227], requires_grad=True) loss :  tensor(0.0898, grad_fn=<MeanBackward0>)\n",
            "epoch :  15 weight :  tensor([1.9378], requires_grad=True) loss :  tensor(0.0582, grad_fn=<MeanBackward0>)\n",
            "epoch :  16 weight :  tensor([1.9499], requires_grad=True) loss :  tensor(0.0377, grad_fn=<MeanBackward0>)\n",
            "epoch :  17 weight :  tensor([1.9597], requires_grad=True) loss :  tensor(0.0244, grad_fn=<MeanBackward0>)\n",
            "epoch :  18 weight :  tensor([1.9676], requires_grad=True) loss :  tensor(0.0158, grad_fn=<MeanBackward0>)\n",
            "epoch :  19 weight :  tensor([1.9739], requires_grad=True) loss :  tensor(0.0103, grad_fn=<MeanBackward0>)\n",
            "epoch :  20 weight :  tensor([1.9790], requires_grad=True) loss :  tensor(0.0067, grad_fn=<MeanBackward0>)\n",
            "epoch :  21 weight :  tensor([1.9831], requires_grad=True) loss :  tensor(0.0043, grad_fn=<MeanBackward0>)\n",
            "epoch :  22 weight :  tensor([1.9864], requires_grad=True) loss :  tensor(0.0028, grad_fn=<MeanBackward0>)\n",
            "epoch :  23 weight :  tensor([1.9890], requires_grad=True) loss :  tensor(0.0018, grad_fn=<MeanBackward0>)\n",
            "epoch :  24 weight :  tensor([1.9912], requires_grad=True) loss :  tensor(0.0012, grad_fn=<MeanBackward0>)\n",
            "epoch :  25 weight :  tensor([1.9929], requires_grad=True) loss :  tensor(0.0008, grad_fn=<MeanBackward0>)\n",
            "epoch :  26 weight :  tensor([1.9943], requires_grad=True) loss :  tensor(0.0005, grad_fn=<MeanBackward0>)\n",
            "epoch :  27 weight :  tensor([1.9954], requires_grad=True) loss :  tensor(0.0003, grad_fn=<MeanBackward0>)\n",
            "epoch :  28 weight :  tensor([1.9963], requires_grad=True) loss :  tensor(0.0002, grad_fn=<MeanBackward0>)\n",
            "epoch :  29 weight :  tensor([1.9970], requires_grad=True) loss :  tensor(0.0001, grad_fn=<MeanBackward0>)\n",
            "epoch :  30 weight :  tensor([1.9976], requires_grad=True) loss :  tensor(8.6865e-05, grad_fn=<MeanBackward0>)\n",
            "epoch :  31 weight :  tensor([1.9981], requires_grad=True) loss :  tensor(5.6293e-05, grad_fn=<MeanBackward0>)\n",
            "epoch :  32 weight :  tensor([1.9984], requires_grad=True) loss :  tensor(3.6477e-05, grad_fn=<MeanBackward0>)\n",
            "epoch :  33 weight :  tensor([1.9987], requires_grad=True) loss :  tensor(2.3636e-05, grad_fn=<MeanBackward0>)\n",
            "epoch :  34 weight :  tensor([1.9990], requires_grad=True) loss :  tensor(1.5316e-05, grad_fn=<MeanBackward0>)\n",
            "epoch :  35 weight :  tensor([1.9992], requires_grad=True) loss :  tensor(9.9260e-06, grad_fn=<MeanBackward0>)\n",
            "epoch :  36 weight :  tensor([1.9993], requires_grad=True) loss :  tensor(6.4334e-06, grad_fn=<MeanBackward0>)\n",
            "epoch :  37 weight :  tensor([1.9995], requires_grad=True) loss :  tensor(4.1684e-06, grad_fn=<MeanBackward0>)\n",
            "epoch :  38 weight :  tensor([1.9996], requires_grad=True) loss :  tensor(2.7002e-06, grad_fn=<MeanBackward0>)\n",
            "epoch :  39 weight :  tensor([1.9997], requires_grad=True) loss :  tensor(1.7500e-06, grad_fn=<MeanBackward0>)\n",
            "epoch :  40 weight :  tensor([1.9997], requires_grad=True) loss :  tensor(1.1341e-06, grad_fn=<MeanBackward0>)\n",
            "epoch :  41 weight :  tensor([1.9998], requires_grad=True) loss :  tensor(7.3458e-07, grad_fn=<MeanBackward0>)\n",
            "epoch :  42 weight :  tensor([1.9998], requires_grad=True) loss :  tensor(4.7631e-07, grad_fn=<MeanBackward0>)\n",
            "epoch :  43 weight :  tensor([1.9999], requires_grad=True) loss :  tensor(3.0822e-07, grad_fn=<MeanBackward0>)\n",
            "epoch :  44 weight :  tensor([1.9999], requires_grad=True) loss :  tensor(2.0001e-07, grad_fn=<MeanBackward0>)\n",
            "epoch :  45 weight :  tensor([1.9999], requires_grad=True) loss :  tensor(1.2944e-07, grad_fn=<MeanBackward0>)\n",
            "epoch :  46 weight :  tensor([1.9999], requires_grad=True) loss :  tensor(8.4092e-08, grad_fn=<MeanBackward0>)\n",
            "epoch :  47 weight :  tensor([1.9999], requires_grad=True) loss :  tensor(5.4479e-08, grad_fn=<MeanBackward0>)\n",
            "epoch :  48 weight :  tensor([2.0000], requires_grad=True) loss :  tensor(3.5400e-08, grad_fn=<MeanBackward0>)\n",
            "epoch :  49 weight :  tensor([2.0000], requires_grad=True) loss :  tensor(2.2851e-08, grad_fn=<MeanBackward0>)\n",
            "epoch :  50 weight :  tensor([2.0000], requires_grad=True) loss :  tensor(1.4774e-08, grad_fn=<MeanBackward0>)\n",
            "epoch :  51 weight :  tensor([2.0000], requires_grad=True) loss :  tensor(9.5502e-09, grad_fn=<MeanBackward0>)\n",
            "epoch :  52 weight :  tensor([2.0000], requires_grad=True) loss :  tensor(6.1972e-09, grad_fn=<MeanBackward0>)\n",
            "epoch :  53 weight :  tensor([2.0000], requires_grad=True) loss :  tensor(4.0539e-09, grad_fn=<MeanBackward0>)\n",
            "epoch :  54 weight :  tensor([2.0000], requires_grad=True) loss :  tensor(2.6348e-09, grad_fn=<MeanBackward0>)\n",
            "epoch :  55 weight :  tensor([2.0000], requires_grad=True) loss :  tensor(1.6930e-09, grad_fn=<MeanBackward0>)\n",
            "epoch :  56 weight :  tensor([2.0000], requires_grad=True) loss :  tensor(1.1089e-09, grad_fn=<MeanBackward0>)\n",
            "epoch :  57 weight :  tensor([2.0000], requires_grad=True) loss :  tensor(7.1827e-10, grad_fn=<MeanBackward0>)\n",
            "epoch :  58 weight :  tensor([2.0000], requires_grad=True) loss :  tensor(4.6448e-10, grad_fn=<MeanBackward0>)\n",
            "epoch :  59 weight :  tensor([2.0000], requires_grad=True) loss :  tensor(3.0009e-10, grad_fn=<MeanBackward0>)\n",
            "prediction after training :  tensor([20.0000], grad_fn=<MulBackward0>)\n"
          ],
          "name": "stdout"
        }
      ]
    }
  ]
}