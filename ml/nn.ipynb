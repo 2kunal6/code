{
  "nbformat": 4,
  "nbformat_minor": 0,
  "metadata": {
    "colab": {
      "name": "nn.ipynb",
      "provenance": [],
      "authorship_tag": "ABX9TyNbbc8CE+8zvkyuAF1UWjAm",
      "include_colab_link": true
    },
    "kernelspec": {
      "name": "python3",
      "display_name": "Python 3"
    }
  },
  "cells": [
    {
      "cell_type": "markdown",
      "metadata": {
        "id": "view-in-github",
        "colab_type": "text"
      },
      "source": [
        "<a href=\"https://colab.research.google.com/github/2kunal6/code/blob/master/ml/nn.ipynb\" target=\"_parent\"><img src=\"https://colab.research.google.com/assets/colab-badge.svg\" alt=\"Open In Colab\"/></a>"
      ]
    },
    {
      "cell_type": "code",
      "metadata": {
        "id": "qz0ASg4xmvUM",
        "colab_type": "code",
        "colab": {
          "base_uri": "https://localhost:8080/",
          "height": 306
        },
        "outputId": "9a1b275f-96d7-4b47-db9a-71bccd72bf02"
      },
      "source": [
        "import numpy as np\n",
        "\n",
        "x = np.array([1,2,3,4], dtype=np.float32)\n",
        "# y=x**2\n",
        "y = np.array([1,4,6,8], dtype=np.float32)\n",
        "\n",
        "w = 0.0\n",
        "\n",
        "def forward(x):\n",
        "  return w*x\n",
        "\n",
        "# MSE\n",
        "def calc_loss(y, y_pred):\n",
        "  return ((y-y_pred)**2).mean()\n",
        "\n",
        "# gradient of MSE dJ/dw = 1/N 2x (w*x - y)\n",
        "def calc_gradient(x, y, y_pred):\n",
        "  return (np.dot(2*x, y_pred - y)).mean()\n",
        "\n",
        "print(\"prediction before training : \", forward(10))\n",
        "\n",
        "learning_rate = 0.01\n",
        "\n",
        "for epoch in range(15):\n",
        "  y_pred = forward(x)\n",
        "\n",
        "  loss = calc_loss(y, y_pred)\n",
        "\n",
        "  grad = calc_gradient(x, y, y_pred)\n",
        "\n",
        "  w -= learning_rate * grad\n",
        "\n",
        "  print(\"epoch : \", epoch, \"weight : \", w, \"loss : \", loss)\n",
        "\n",
        "print(\"prediction after training : \", forward(10))"
      ],
      "execution_count": 18,
      "outputs": [
        {
          "output_type": "stream",
          "text": [
            "prediction before training :  0.0\n",
            "epoch :  0 weight :  1.18 loss :  29.25\n",
            "epoch :  1 weight :  1.6520000076293946 loss :  4.8830004\n",
            "epoch :  2 weight :  1.8408000373840332 loss :  0.9842802\n",
            "epoch :  3 weight :  1.9163200235366822 loss :  0.36048478\n",
            "epoch :  4 weight :  1.9465280365943909 loss :  0.26067758\n",
            "epoch :  5 weight :  1.9586111831665038 loss :  0.24470837\n",
            "epoch :  6 weight :  1.9634444975852965 loss :  0.24215335\n",
            "epoch :  7 weight :  1.9653778290748596 loss :  0.24174455\n",
            "epoch :  8 weight :  1.966151144504547 loss :  0.24167913\n",
            "epoch :  9 weight :  1.9664604806900023 loss :  0.24166866\n",
            "epoch :  10 weight :  1.966584186553955 loss :  0.24166697\n",
            "epoch :  11 weight :  1.96663366317749 loss :  0.24166672\n",
            "epoch :  12 weight :  1.9666534638404845 loss :  0.24166667\n",
            "epoch :  13 weight :  1.966661376953125 loss :  0.24166666\n",
            "epoch :  14 weight :  1.966664583683014 loss :  0.24166666\n",
            "prediction after training :  19.66664583683014\n"
          ],
          "name": "stdout"
        }
      ]
    }
  ]
}