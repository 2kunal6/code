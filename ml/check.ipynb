{
  "nbformat": 4,
  "nbformat_minor": 0,
  "metadata": {
    "colab": {
      "name": "check.ipynb",
      "provenance": [],
      "collapsed_sections": [],
      "authorship_tag": "ABX9TyOXdsnhOocfyce/JRfmPAkO",
      "include_colab_link": true
    },
    "kernelspec": {
      "name": "python3",
      "display_name": "Python 3"
    }
  },
  "cells": [
    {
      "cell_type": "markdown",
      "metadata": {
        "id": "view-in-github",
        "colab_type": "text"
      },
      "source": [
        "<a href=\"https://colab.research.google.com/github/2kunal6/code/blob/master/ml/check.ipynb\" target=\"_parent\"><img src=\"https://colab.research.google.com/assets/colab-badge.svg\" alt=\"Open In Colab\"/></a>"
      ]
    },
    {
      "cell_type": "code",
      "metadata": {
        "id": "EDXuU-fq2KAS",
        "colab_type": "code",
        "outputId": "933845df-a6ff-42bf-eed3-66213bccda9c",
        "colab": {
          "base_uri": "https://localhost:8080/",
          "height": 34
        }
      },
      "source": [
        "import numpy as np\n",
        "\n",
        "a = np.array([1,2,3,4])\n",
        "w = np.array([10, 11, 10, 10])\n",
        "b = np.array([100, 100, 100, 100])\n",
        "\n",
        "print(a*w + b)"
      ],
      "execution_count": 0,
      "outputs": [
        {
          "output_type": "stream",
          "text": [
            "[110 122 130 140]\n"
          ],
          "name": "stdout"
        }
      ]
    },
    {
      "cell_type": "code",
      "metadata": {
        "id": "Hur9csu12dCP",
        "colab_type": "code",
        "outputId": "badfc163-3179-4daf-a468-593bc29c062c",
        "colab": {
          "base_uri": "https://localhost:8080/",
          "height": 34
        }
      },
      "source": [
        "import numpy as np\n",
        "\n",
        "a = np.array([1,2,3,4])\n",
        "w = 10\n",
        "b= 100\n",
        "\n",
        "print(a*w + b)"
      ],
      "execution_count": 0,
      "outputs": [
        {
          "output_type": "stream",
          "text": [
            "[110 120 130 140]\n"
          ],
          "name": "stdout"
        }
      ]
    },
    {
      "cell_type": "code",
      "metadata": {
        "id": "kQ4hvLVw4tM2",
        "colab_type": "code",
        "outputId": "1008cf22-9200-4d6a-8909-141a4f82df87",
        "colab": {
          "base_uri": "https://localhost:8080/",
          "height": 272
        }
      },
      "source": [
        "import numpy as np\n",
        "\n",
        "f = np.array([[1, 101], [2, 202], [3, 303], [4, 404], [5, 505]])\n",
        "\n",
        "for x in f.T:\n",
        "  mean = np.mean(x)\n",
        "  rang = x.max() - x.min()\n",
        "\n",
        "  print(mean)\n",
        "  print(rang)\n",
        "  print(x)\n",
        "  x = x - mean\n",
        "  print(x)\n",
        "  x = x/rang\n",
        "  print(x)\n",
        "\n",
        "print(f)"
      ],
      "execution_count": 0,
      "outputs": [
        {
          "output_type": "stream",
          "text": [
            "3.0\n",
            "4.0\n",
            "[1. 2. 3. 4. 5.]\n",
            "[-2. -1.  0.  1.  2.]\n",
            "[-0.5  -0.25  0.    0.25  0.5 ]\n",
            "303.0\n",
            "404.0\n",
            "[101. 202. 303. 404. 505.]\n",
            "[-202. -101.    0.  101.  202.]\n",
            "[-0.5  -0.25  0.    0.25  0.5 ]\n",
            "[[  1. 101.]\n",
            " [  2. 202.]\n",
            " [  3. 303.]\n",
            " [  4. 404.]\n",
            " [  5. 505.]]\n"
          ],
          "name": "stdout"
        }
      ]
    },
    {
      "cell_type": "code",
      "metadata": {
        "id": "YrqFG1OA8FYi",
        "colab_type": "code",
        "outputId": "7162fd73-2ad2-4950-f5b4-f91260012ae7",
        "colab": {
          "base_uri": "https://localhost:8080/",
          "height": 51
        }
      },
      "source": [
        "pred = np.array([1,2,3,4])\n",
        "targ = np.array([5,6,7,8])\n",
        "\n",
        "x = (pred-targ)\n",
        "print(x)\n",
        "x = x**2\n",
        "print(x)"
      ],
      "execution_count": 0,
      "outputs": [
        {
          "output_type": "stream",
          "text": [
            "[-4 -4 -4 -4]\n",
            "[16 16 16 16]\n"
          ],
          "name": "stdout"
        }
      ]
    }
  ]
}