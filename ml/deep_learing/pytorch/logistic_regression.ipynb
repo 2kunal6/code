{
  "nbformat": 4,
  "nbformat_minor": 0,
  "metadata": {
    "colab": {
      "name": "logistic_regression.ipynb",
      "provenance": [],
      "authorship_tag": "ABX9TyNAFDS0I7f1g6tf96oTEXd9",
      "include_colab_link": true
    },
    "kernelspec": {
      "name": "python3",
      "display_name": "Python 3"
    }
  },
  "cells": [
    {
      "cell_type": "markdown",
      "metadata": {
        "id": "view-in-github",
        "colab_type": "text"
      },
      "source": [
        "<a href=\"https://colab.research.google.com/github/2kunal6/code/blob/master/ml/deep_learing/pytorch/logistic_regression.ipynb\" target=\"_parent\"><img src=\"https://colab.research.google.com/assets/colab-badge.svg\" alt=\"Open In Colab\"/></a>"
      ]
    },
    {
      "cell_type": "code",
      "metadata": {
        "id": "Eaf9IZKR0EN4",
        "colab_type": "code",
        "colab": {
          "base_uri": "https://localhost:8080/",
          "height": 391
        },
        "outputId": "b752cb59-d05e-475d-8fdb-2abb67fba250"
      },
      "source": [
        "import torch\n",
        "import torchvision\n",
        "from torchvision import datasets, transforms\n",
        "import torch.nn as nn\n",
        "import torch.nn.functional as F\n",
        "import torch.optim\n",
        "\n",
        "train = torch.utils.data.DataLoader(\n",
        "    datasets.MNIST(\"\", train=True, transform=transforms.ToTensor(), download=True), batch_size = 10, shuffle = True\n",
        ")\n",
        "\n",
        "test = torch.utils.data.DataLoader(\n",
        "    datasets.MNIST(\"\", train=False, transform=transforms.ToTensor(), download=True), batch_size = 10, shuffle = True\n",
        ")\n",
        "\n",
        "print(\"datasets loaded\")\n",
        "\n",
        "class LogisticRegression(nn.Module):\n",
        "  def __init__(self, input_dim, output_dim):\n",
        "    super(LogisticRegression, self).__init__()\n",
        "    self.linear = torch.nn.Linear(input_dim, output_dim)\n",
        "\n",
        "  def forward(self, x):\n",
        "    return self.linear(x)\n",
        "\n",
        "model = LogisticRegression(28*28, 10)\n",
        "\n",
        "optimizer = torch.optim.Adam(model.parameters(), lr=0.0001)\n",
        "\n",
        "for epoch in range(20):\n",
        "  for data in train:\n",
        "    X, y = data[0], data[1]\n",
        "    optimizer.zero_grad()\n",
        "    output = model(X.view(-1, 28*28))\n",
        "    loss = F.nll_loss(output, y)\n",
        "    loss.backward()\n",
        "    optimizer.step()\n",
        "  print(f'epoch: {epoch}, loss: {loss}')\n",
        "\n",
        "total = 0\n",
        "correct = 0\n",
        "\n",
        "with torch.no_grad():\n",
        "  for data in test:\n",
        "    X, y = data[0], data[1]\n",
        "    output = model(X.view(-1, 28*28))\n",
        "    _, predicted = torch.max(output, 1)\n",
        "    total += y.size(0)\n",
        "    correct += (predicted == y).sum().item()\n",
        "\n",
        "print('Accuracy of the network on the 10000 test images: %d %%' % (\n",
        "    100 * correct / total))"
      ],
      "execution_count": 2,
      "outputs": [
        {
          "output_type": "stream",
          "text": [
            "datasets loaded\n",
            "epoch: 0, loss: -32.89511489868164\n",
            "epoch: 1, loss: -66.8080062866211\n",
            "epoch: 2, loss: -107.2021255493164\n",
            "epoch: 3, loss: -151.17823791503906\n",
            "epoch: 4, loss: -184.63494873046875\n",
            "epoch: 5, loss: -209.20388793945312\n",
            "epoch: 6, loss: -217.02230834960938\n",
            "epoch: 7, loss: -295.77471923828125\n",
            "epoch: 8, loss: -287.11907958984375\n",
            "epoch: 9, loss: -425.6112365722656\n",
            "epoch: 10, loss: -378.27862548828125\n",
            "epoch: 11, loss: -464.02752685546875\n",
            "epoch: 12, loss: -588.55322265625\n",
            "epoch: 13, loss: -531.386962890625\n",
            "epoch: 14, loss: -535.9849243164062\n",
            "epoch: 15, loss: -571.8631591796875\n",
            "epoch: 16, loss: -569.1192016601562\n",
            "epoch: 17, loss: -609.8494873046875\n",
            "epoch: 18, loss: -653.0252075195312\n",
            "epoch: 19, loss: -639.4708251953125\n",
            "Accuracy of the network on the 10000 test images: 69 %\n"
          ],
          "name": "stdout"
        }
      ]
    }
  ]
}