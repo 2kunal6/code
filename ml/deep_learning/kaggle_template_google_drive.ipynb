{
  "nbformat": 4,
  "nbformat_minor": 0,
  "metadata": {
    "colab": {
      "name": "kaggle_template.ipynb",
      "provenance": [],
      "collapsed_sections": []
    },
    "kernelspec": {
      "name": "python3",
      "display_name": "Python 3"
    },
    "accelerator": "GPU"
  },
  "cells": [
    {
      "cell_type": "code",
      "metadata": {
        "id": "KIu1d5aBI_r1",
        "colab_type": "code",
        "colab": {
          "base_uri": "https://localhost:8080/",
          "height": 1000
        },
        "outputId": "263e5ebc-0d5a-4bc5-dc4c-5681c1b975b1"
      },
      "source": [
        "import glob \n",
        "import zipfile\n",
        "import numpy as np\n",
        "import cv2\n",
        "import os\n",
        "\n",
        "from tqdm import tqdm\n",
        "import torch\n",
        "import torch.nn as nn\n",
        "import torch.nn.functional as F\n",
        "import torch.optim as optim\n",
        "\n",
        "import pandas as pd\n",
        "\n",
        "zip_files = glob.glob('drive/My Drive/colab_data/dogs-vs-cats/*.zip')\n",
        "\n",
        "if(not os.path.exists(\"drive/My Drive/colab_data/dogs-vs-cats/data/train\")):\n",
        "  for zip_file in zip_files:\n",
        "    with zipfile.ZipFile(zip_file, 'r') as zf:\n",
        "      zf.extractall(\"drive/My Drive/colab_data/dogs-vs-cats/data\")\n",
        "\n",
        "print(\"extraction complete\")\n",
        "\n",
        "train_path = 'drive/My Drive/colab_data/dogs-vs-cats/data/train'\n",
        "test_path = 'drive/My Drive/colab_data/dogs-vs-cats/data/test1'\n",
        "IMAGE_SIZE = (50, 50)\n",
        "\n",
        "train_data = []\n",
        "def make_training_data():\n",
        "    LABELS = {'cat': 0, 'dog': 1}\n",
        "    for f in tqdm(os.listdir(train_path)):\n",
        "        path = os.path.join(train_path, f)\n",
        "        if(\"jpg\" not in f):\n",
        "            continue\n",
        "        img=cv2.imread(path, cv2.IMREAD_GRAYSCALE)\n",
        "        img=cv2.resize(img, IMAGE_SIZE)\n",
        "        train_data.append([img, np.eye(len(LABELS))[LABELS[f.split('.')[0]]]])\n",
        "    np.save(\"drive/My Drive/colab_data/dogs-vs-cats/training_data.npy\", train_data)\n",
        "\n",
        "if(os.path.exists(\"drive/My Drive/colab_data/dogs-vs-cats/training_data.npy\")):\n",
        "    train_data = np.load(\"drive/My Drive/colab_data/dogs-vs-cats/training_data.npy\", allow_pickle=True)\n",
        "else:\n",
        "    make_training_data()\n",
        "\n",
        "np.random.shuffle(train_data)\n",
        "print(train_data[0])\n",
        "\n",
        "class Net(nn.Module):\n",
        "    def __init__(self):\n",
        "        super().__init__() \n",
        "        self.conv1 = nn.Conv2d(1, 32, 5) \n",
        "        self.conv2 = nn.Conv2d(32, 64, 5) \n",
        "        self.conv3 = nn.Conv2d(64, 128, 5)\n",
        "        \n",
        "        self.fc1 = torch.nn.Linear(2*2*128, 32)\n",
        "        self.fc2 = torch.nn.Linear(32, 2) \n",
        "        \n",
        "        self.max_pool = torch.nn.MaxPool2d(kernel_size=2, stride=2)\n",
        "        \n",
        "    def forward(self, x):\n",
        "        x = F.max_pool2d(F.relu(self.conv1(x)), (2, 2))\n",
        "        x = F.max_pool2d(F.relu(self.conv2(x)), (2, 2))\n",
        "        x = F.max_pool2d(F.relu(self.conv3(x)), (2, 2))\n",
        "        \n",
        "        x = F.relu(self.fc1(x.view(-1, 128*2*2)))\n",
        "        x = self.fc2(x) # bc this is our output layer. No activation here.\n",
        "        return F.softmax(x, dim=1)\n",
        "\n",
        "if torch.cuda.is_available():\n",
        "    device = torch.device(\"cuda:0\")  # you can continue going on here, like cuda:1 cuda:2....etc. \n",
        "    print(\"Running on the GPU\")\n",
        "else:\n",
        "    device = torch.device(\"cpu\")\n",
        "    print(\"Running on the CPU\")\n",
        "\n",
        "net = Net().to(device)\n",
        "\n",
        "train_X = torch.Tensor([i[0] for i in train_data]).view(-1,50,50)\n",
        "train_X = train_X/255.0\n",
        "train_y = torch.Tensor([i[1] for i in train_data])\n",
        "\n",
        "def train(net):\n",
        "    BATCH_SIZE = 64\n",
        "    EPOCHS = 20\n",
        "    optimizer = optim.Adam(net.parameters(), lr=0.001)\n",
        "    loss_function = nn.MSELoss()\n",
        "    for epoch in range(EPOCHS):\n",
        "        for i in tqdm(range(0, len(train_X), BATCH_SIZE)): \n",
        "            batch_X = train_X[i:i+BATCH_SIZE].view(-1, 1, 50, 50)\n",
        "            batch_y = train_y[i:i+BATCH_SIZE]\n",
        "\n",
        "            batch_X, batch_y = batch_X.to(device), batch_y.to(device)\n",
        "            net.zero_grad()\n",
        "\n",
        "            optimizer.zero_grad()   # zero the gradient buffers\n",
        "            outputs = net(batch_X)\n",
        "            loss = loss_function(outputs, batch_y)\n",
        "            loss.backward()\n",
        "            optimizer.step()\n",
        "\n",
        "            del(batch_X)\n",
        "            del(batch_y)\n",
        "\n",
        "        print(f\"Epoch: {epoch}. Loss: {loss}\")\n",
        "        \n",
        "train(net)\n",
        "\n",
        "predictions=[]\n",
        "id_line=[]\n",
        "def test(net):\n",
        "    for f in os.listdir(test_path):\n",
        "        id_line.append(f.split('.')[0])\n",
        "        path = os.path.join(test_path, f)\n",
        "        img=cv2.imread(path, cv2.IMREAD_GRAYSCALE)\n",
        "        img=cv2.resize(img, (50, 50))\n",
        "        test_X = torch.Tensor(img).view(-1, 1, 50, 50)\n",
        "        test_X = test_X.to(device)\n",
        "        net_out = net(test_X)\n",
        "        \n",
        "        predictions.append(torch.argmax(net_out))\n",
        "        del(test_X)\n",
        "\n",
        "test(net)\n",
        "\n",
        "predicted_val = [x.tolist() for x in predictions]\n",
        "submission_df = pd.DataFrame({'id':id_line, 'label':predicted_val})\n",
        "submission_df.to_csv(\"submiss.csv\", index=False)"
      ],
      "execution_count": 1,
      "outputs": [
        {
          "output_type": "stream",
          "text": [
            "extraction complete\n",
            "[array([[ 40,  47,  58, ..., 133, 130, 128],\n",
            "       [ 49,  55,  55, ..., 133, 129, 131],\n",
            "       [ 51,  57,  62, ..., 129, 130, 133],\n",
            "       ...,\n",
            "       [133, 141, 133, ..., 157, 134, 136],\n",
            "       [134, 135, 134, ..., 121, 127,  88],\n",
            "       [112, 107, 117, ..., 122, 121,  97]], dtype=uint8)\n",
            " array([1., 0.])]\n",
            "Running on the GPU\n"
          ],
          "name": "stdout"
        },
        {
          "output_type": "stream",
          "text": [
            "100%|██████████| 166/166 [00:01<00:00, 104.24it/s]\n",
            "  8%|▊         | 13/166 [00:00<00:01, 128.55it/s]"
          ],
          "name": "stderr"
        },
        {
          "output_type": "stream",
          "text": [
            "Epoch: 0. Loss: 0.0\n"
          ],
          "name": "stdout"
        },
        {
          "output_type": "stream",
          "text": [
            "100%|██████████| 166/166 [00:01<00:00, 125.09it/s]\n",
            "  8%|▊         | 14/166 [00:00<00:01, 131.35it/s]"
          ],
          "name": "stderr"
        },
        {
          "output_type": "stream",
          "text": [
            "Epoch: 1. Loss: 0.0\n"
          ],
          "name": "stdout"
        },
        {
          "output_type": "stream",
          "text": [
            "100%|██████████| 166/166 [00:01<00:00, 125.79it/s]\n",
            "  8%|▊         | 14/166 [00:00<00:01, 131.17it/s]"
          ],
          "name": "stderr"
        },
        {
          "output_type": "stream",
          "text": [
            "Epoch: 2. Loss: 0.0\n"
          ],
          "name": "stdout"
        },
        {
          "output_type": "stream",
          "text": [
            "100%|██████████| 166/166 [00:01<00:00, 125.34it/s]\n",
            "  8%|▊         | 14/166 [00:00<00:01, 130.82it/s]"
          ],
          "name": "stderr"
        },
        {
          "output_type": "stream",
          "text": [
            "Epoch: 3. Loss: 0.0\n"
          ],
          "name": "stdout"
        },
        {
          "output_type": "stream",
          "text": [
            "100%|██████████| 166/166 [00:01<00:00, 125.62it/s]\n",
            "  8%|▊         | 14/166 [00:00<00:01, 130.75it/s]"
          ],
          "name": "stderr"
        },
        {
          "output_type": "stream",
          "text": [
            "Epoch: 4. Loss: 0.0\n"
          ],
          "name": "stdout"
        },
        {
          "output_type": "stream",
          "text": [
            "100%|██████████| 166/166 [00:01<00:00, 124.56it/s]\n",
            "  8%|▊         | 14/166 [00:00<00:01, 129.88it/s]"
          ],
          "name": "stderr"
        },
        {
          "output_type": "stream",
          "text": [
            "Epoch: 5. Loss: 0.0\n"
          ],
          "name": "stdout"
        },
        {
          "output_type": "stream",
          "text": [
            "100%|██████████| 166/166 [00:01<00:00, 125.39it/s]\n",
            "  8%|▊         | 14/166 [00:00<00:01, 130.51it/s]"
          ],
          "name": "stderr"
        },
        {
          "output_type": "stream",
          "text": [
            "Epoch: 6. Loss: 0.0\n"
          ],
          "name": "stdout"
        },
        {
          "output_type": "stream",
          "text": [
            "100%|██████████| 166/166 [00:01<00:00, 125.34it/s]\n",
            "  8%|▊         | 14/166 [00:00<00:01, 131.15it/s]"
          ],
          "name": "stderr"
        },
        {
          "output_type": "stream",
          "text": [
            "Epoch: 7. Loss: 0.0\n"
          ],
          "name": "stdout"
        },
        {
          "output_type": "stream",
          "text": [
            "100%|██████████| 166/166 [00:01<00:00, 125.38it/s]\n",
            "  8%|▊         | 14/166 [00:00<00:01, 130.29it/s]"
          ],
          "name": "stderr"
        },
        {
          "output_type": "stream",
          "text": [
            "Epoch: 8. Loss: 0.0\n"
          ],
          "name": "stdout"
        },
        {
          "output_type": "stream",
          "text": [
            "100%|██████████| 166/166 [00:01<00:00, 125.36it/s]\n",
            "  8%|▊         | 14/166 [00:00<00:01, 130.25it/s]"
          ],
          "name": "stderr"
        },
        {
          "output_type": "stream",
          "text": [
            "Epoch: 9. Loss: 0.0\n"
          ],
          "name": "stdout"
        },
        {
          "output_type": "stream",
          "text": [
            "100%|██████████| 166/166 [00:01<00:00, 124.81it/s]\n",
            "  8%|▊         | 14/166 [00:00<00:01, 131.07it/s]"
          ],
          "name": "stderr"
        },
        {
          "output_type": "stream",
          "text": [
            "Epoch: 10. Loss: 0.0\n"
          ],
          "name": "stdout"
        },
        {
          "output_type": "stream",
          "text": [
            "100%|██████████| 166/166 [00:01<00:00, 125.59it/s]\n",
            "  8%|▊         | 14/166 [00:00<00:01, 130.91it/s]"
          ],
          "name": "stderr"
        },
        {
          "output_type": "stream",
          "text": [
            "Epoch: 11. Loss: 0.0\n"
          ],
          "name": "stdout"
        },
        {
          "output_type": "stream",
          "text": [
            "100%|██████████| 166/166 [00:01<00:00, 125.45it/s]\n",
            "  8%|▊         | 14/166 [00:00<00:01, 130.96it/s]"
          ],
          "name": "stderr"
        },
        {
          "output_type": "stream",
          "text": [
            "Epoch: 12. Loss: 0.0\n"
          ],
          "name": "stdout"
        },
        {
          "output_type": "stream",
          "text": [
            "100%|██████████| 166/166 [00:01<00:00, 125.34it/s]\n",
            "  8%|▊         | 13/166 [00:00<00:01, 128.58it/s]"
          ],
          "name": "stderr"
        },
        {
          "output_type": "stream",
          "text": [
            "Epoch: 13. Loss: 0.0\n"
          ],
          "name": "stdout"
        },
        {
          "output_type": "stream",
          "text": [
            "100%|██████████| 166/166 [00:01<00:00, 124.08it/s]\n",
            "  8%|▊         | 14/166 [00:00<00:01, 130.69it/s]"
          ],
          "name": "stderr"
        },
        {
          "output_type": "stream",
          "text": [
            "Epoch: 14. Loss: 0.0\n"
          ],
          "name": "stdout"
        },
        {
          "output_type": "stream",
          "text": [
            "100%|██████████| 166/166 [00:01<00:00, 125.16it/s]\n",
            "  8%|▊         | 13/166 [00:00<00:01, 128.28it/s]"
          ],
          "name": "stderr"
        },
        {
          "output_type": "stream",
          "text": [
            "Epoch: 15. Loss: 0.0\n"
          ],
          "name": "stdout"
        },
        {
          "output_type": "stream",
          "text": [
            "100%|██████████| 166/166 [00:01<00:00, 125.26it/s]\n",
            "  8%|▊         | 13/166 [00:00<00:01, 127.64it/s]"
          ],
          "name": "stderr"
        },
        {
          "output_type": "stream",
          "text": [
            "Epoch: 16. Loss: 0.0\n"
          ],
          "name": "stdout"
        },
        {
          "output_type": "stream",
          "text": [
            "100%|██████████| 166/166 [00:01<00:00, 124.56it/s]\n",
            "  8%|▊         | 14/166 [00:00<00:01, 131.26it/s]"
          ],
          "name": "stderr"
        },
        {
          "output_type": "stream",
          "text": [
            "Epoch: 17. Loss: 0.0\n"
          ],
          "name": "stdout"
        },
        {
          "output_type": "stream",
          "text": [
            "100%|██████████| 166/166 [00:01<00:00, 125.27it/s]\n",
            "  8%|▊         | 13/166 [00:00<00:01, 129.98it/s]"
          ],
          "name": "stderr"
        },
        {
          "output_type": "stream",
          "text": [
            "Epoch: 18. Loss: 0.0\n"
          ],
          "name": "stdout"
        },
        {
          "output_type": "stream",
          "text": [
            "100%|██████████| 166/166 [00:01<00:00, 123.62it/s]\n"
          ],
          "name": "stderr"
        },
        {
          "output_type": "stream",
          "text": [
            "Epoch: 19. Loss: 0.0\n"
          ],
          "name": "stdout"
        },
        {
          "output_type": "error",
          "ename": "OSError",
          "evalue": "ignored",
          "traceback": [
            "\u001b[0;31m---------------------------------------------------------------------------\u001b[0m",
            "\u001b[0;31mOSError\u001b[0m                                   Traceback (most recent call last)",
            "\u001b[0;32m<ipython-input-1-f789a69d2011>\u001b[0m in \u001b[0;36m<module>\u001b[0;34m()\u001b[0m\n\u001b[1;32m    121\u001b[0m         \u001b[0;32mdel\u001b[0m\u001b[0;34m(\u001b[0m\u001b[0mtest_X\u001b[0m\u001b[0;34m)\u001b[0m\u001b[0;34m\u001b[0m\u001b[0;34m\u001b[0m\u001b[0m\n\u001b[1;32m    122\u001b[0m \u001b[0;34m\u001b[0m\u001b[0m\n\u001b[0;32m--> 123\u001b[0;31m \u001b[0mtest\u001b[0m\u001b[0;34m(\u001b[0m\u001b[0mnet\u001b[0m\u001b[0;34m)\u001b[0m\u001b[0;34m\u001b[0m\u001b[0;34m\u001b[0m\u001b[0m\n\u001b[0m\u001b[1;32m    124\u001b[0m \u001b[0;34m\u001b[0m\u001b[0m\n\u001b[1;32m    125\u001b[0m \u001b[0mpredicted_val\u001b[0m \u001b[0;34m=\u001b[0m \u001b[0;34m[\u001b[0m\u001b[0mx\u001b[0m\u001b[0;34m.\u001b[0m\u001b[0mtolist\u001b[0m\u001b[0;34m(\u001b[0m\u001b[0;34m)\u001b[0m \u001b[0;32mfor\u001b[0m \u001b[0mx\u001b[0m \u001b[0;32min\u001b[0m \u001b[0mpredictions\u001b[0m\u001b[0;34m]\u001b[0m\u001b[0;34m\u001b[0m\u001b[0;34m\u001b[0m\u001b[0m\n",
            "\u001b[0;32m<ipython-input-1-f789a69d2011>\u001b[0m in \u001b[0;36mtest\u001b[0;34m(net)\u001b[0m\n\u001b[1;32m    109\u001b[0m \u001b[0mid_line\u001b[0m\u001b[0;34m=\u001b[0m\u001b[0;34m[\u001b[0m\u001b[0;34m]\u001b[0m\u001b[0;34m\u001b[0m\u001b[0;34m\u001b[0m\u001b[0m\n\u001b[1;32m    110\u001b[0m \u001b[0;32mdef\u001b[0m \u001b[0mtest\u001b[0m\u001b[0;34m(\u001b[0m\u001b[0mnet\u001b[0m\u001b[0;34m)\u001b[0m\u001b[0;34m:\u001b[0m\u001b[0;34m\u001b[0m\u001b[0;34m\u001b[0m\u001b[0m\n\u001b[0;32m--> 111\u001b[0;31m     \u001b[0;32mfor\u001b[0m \u001b[0mf\u001b[0m \u001b[0;32min\u001b[0m \u001b[0mos\u001b[0m\u001b[0;34m.\u001b[0m\u001b[0mlistdir\u001b[0m\u001b[0;34m(\u001b[0m\u001b[0mtest_path\u001b[0m\u001b[0;34m)\u001b[0m\u001b[0;34m:\u001b[0m\u001b[0;34m\u001b[0m\u001b[0;34m\u001b[0m\u001b[0m\n\u001b[0m\u001b[1;32m    112\u001b[0m         \u001b[0mid_line\u001b[0m\u001b[0;34m.\u001b[0m\u001b[0mappend\u001b[0m\u001b[0;34m(\u001b[0m\u001b[0mf\u001b[0m\u001b[0;34m.\u001b[0m\u001b[0msplit\u001b[0m\u001b[0;34m(\u001b[0m\u001b[0;34m'.'\u001b[0m\u001b[0;34m)\u001b[0m\u001b[0;34m[\u001b[0m\u001b[0;36m0\u001b[0m\u001b[0;34m]\u001b[0m\u001b[0;34m)\u001b[0m\u001b[0;34m\u001b[0m\u001b[0;34m\u001b[0m\u001b[0m\n\u001b[1;32m    113\u001b[0m         \u001b[0mpath\u001b[0m \u001b[0;34m=\u001b[0m \u001b[0mos\u001b[0m\u001b[0;34m.\u001b[0m\u001b[0mpath\u001b[0m\u001b[0;34m.\u001b[0m\u001b[0mjoin\u001b[0m\u001b[0;34m(\u001b[0m\u001b[0mtest_path\u001b[0m\u001b[0;34m,\u001b[0m \u001b[0mf\u001b[0m\u001b[0;34m)\u001b[0m\u001b[0;34m\u001b[0m\u001b[0;34m\u001b[0m\u001b[0m\n",
            "\u001b[0;31mOSError\u001b[0m: [Errno 5] Input/output error: 'drive/My Drive/colab_data/dogs-vs-cats/data/test1'"
          ]
        }
      ]
    }
  ]
}