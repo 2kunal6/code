{
  "nbformat": 4,
  "nbformat_minor": 0,
  "metadata": {
    "colab": {
      "name": "read_from_npy_zip.ipynb",
      "provenance": []
    },
    "kernelspec": {
      "name": "python3",
      "display_name": "Python 3"
    }
  },
  "cells": [
    {
      "cell_type": "code",
      "metadata": {
        "id": "j096UwBuFTEk",
        "colab_type": "code",
        "colab": {
          "base_uri": "https://localhost:8080/",
          "height": 1000
        },
        "outputId": "3bfa9c54-4e17-42dc-e96e-2f3519556579"
      },
      "source": [
        "import glob \n",
        "import zipfile\n",
        "import numpy as np\n",
        "import cv2\n",
        "import os\n",
        "import time\n",
        "\n",
        "from tqdm import tqdm\n",
        "\n",
        "data_root_path = 'drive/My Drive/colab_data/dogs-vs-cats/'\n",
        "train_path = 'data/numpy_folder'\n",
        "\n",
        "def unzip_files():\n",
        "    zip_files = glob.glob(data_root_path + '/*.zip')\n",
        "    for zip_file in tqdm(zip_files):\n",
        "        with zipfile.ZipFile(zip_file, 'r') as zf:\n",
        "            zf.extractall(\"data\")\n",
        "\n",
        "train_data = []     \n",
        "def read_data_from_npy_zip():\n",
        "    if(not os.path.exists(\"data\")):  \n",
        "      unzip_files()\n",
        "    for f in tqdm(os.listdir(train_path)):\n",
        "      path = os.path.join(train_path, f)\n",
        "      train_data.extend(np.load(path, allow_pickle=True))\n",
        "\n",
        "read_data_from_npy_zip()\n",
        "\n",
        "np.random.shuffle(train_data)\n",
        "print(len(train_data), train_data[0])"
      ],
      "execution_count": 9,
      "outputs": [
        {
          "output_type": "stream",
          "text": [
            "\n",
            "  0%|          | 0/25 [00:00<?, ?it/s]\u001b[A\n",
            "  4%|▍         | 1/25 [00:08<03:17,  8.21s/it]\u001b[A\n",
            "  8%|▊         | 2/25 [00:16<03:10,  8.30s/it]\u001b[A\n",
            " 12%|█▏        | 3/25 [00:24<03:01,  8.27s/it]\u001b[A\n",
            " 16%|█▌        | 4/25 [00:33<02:54,  8.31s/it]\u001b[A\n",
            " 20%|██        | 5/25 [00:41<02:44,  8.25s/it]\u001b[A\n",
            " 24%|██▍       | 6/25 [00:49<02:37,  8.29s/it]\u001b[A\n",
            " 28%|██▊       | 7/25 [00:58<02:29,  8.29s/it]\u001b[A\n",
            " 32%|███▏      | 8/25 [01:06<02:21,  8.33s/it]\u001b[A\n",
            " 36%|███▌      | 9/25 [01:15<02:14,  8.38s/it]\u001b[A\n",
            " 40%|████      | 10/25 [01:23<02:05,  8.38s/it]\u001b[A\n",
            " 44%|████▍     | 11/25 [01:31<01:56,  8.33s/it]\u001b[A\n",
            " 48%|████▊     | 12/25 [01:39<01:48,  8.32s/it]\u001b[A\n",
            " 52%|█████▏    | 13/25 [01:48<01:40,  8.34s/it]\u001b[A\n",
            " 56%|█████▌    | 14/25 [01:56<01:31,  8.30s/it]\u001b[A\n",
            " 60%|██████    | 15/25 [02:04<01:23,  8.30s/it]\u001b[A\n",
            " 64%|██████▍   | 16/25 [02:13<01:14,  8.33s/it]\u001b[A\n",
            " 68%|██████▊   | 17/25 [02:21<01:07,  8.41s/it]\u001b[A\n",
            " 72%|███████▏  | 18/25 [02:30<00:58,  8.41s/it]\u001b[A\n",
            " 76%|███████▌  | 19/25 [02:38<00:50,  8.37s/it]\u001b[A\n",
            " 80%|████████  | 20/25 [02:46<00:41,  8.39s/it]\u001b[A\n",
            " 84%|████████▍ | 21/25 [02:55<00:33,  8.42s/it]\u001b[A\n",
            " 88%|████████▊ | 22/25 [03:03<00:25,  8.39s/it]\u001b[A\n",
            " 92%|█████████▏| 23/25 [03:12<00:16,  8.39s/it]\u001b[A\n",
            " 96%|█████████▌| 24/25 [03:20<00:08,  8.33s/it]\u001b[A\n",
            "100%|██████████| 25/25 [03:28<00:00,  8.35s/it]"
          ],
          "name": "stderr"
        },
        {
          "output_type": "stream",
          "text": [
            "24999 [array([[[  6,   5,   7],\n",
            "        [  6,   5,   7],\n",
            "        [  6,   5,   7],\n",
            "        ...,\n",
            "        [  4,   6,   7],\n",
            "        [  4,   6,   7],\n",
            "        [  4,   6,   7]],\n",
            "\n",
            "       [[  6,   5,   7],\n",
            "        [  6,   5,   7],\n",
            "        [  6,   5,   7],\n",
            "        ...,\n",
            "        [  4,   6,   7],\n",
            "        [  4,   6,   7],\n",
            "        [  4,   6,   7]],\n",
            "\n",
            "       [[  6,   5,   7],\n",
            "        [  6,   5,   7],\n",
            "        [  6,   5,   7],\n",
            "        ...,\n",
            "        [  4,   6,   7],\n",
            "        [  4,   6,   7],\n",
            "        [  4,   6,   7]],\n",
            "\n",
            "       ...,\n",
            "\n",
            "       [[ 94, 106, 106],\n",
            "        [ 96, 108, 108],\n",
            "        [ 97, 109, 109],\n",
            "        ...,\n",
            "        [124, 136, 140],\n",
            "        [124, 136, 140],\n",
            "        [124, 136, 140]],\n",
            "\n",
            "       [[ 96, 108, 108],\n",
            "        [ 97, 109, 109],\n",
            "        [ 98, 110, 110],\n",
            "        ...,\n",
            "        [124, 136, 140],\n",
            "        [124, 136, 140],\n",
            "        [124, 136, 140]],\n",
            "\n",
            "       [[ 96, 108, 108],\n",
            "        [ 97, 109, 109],\n",
            "        [ 98, 110, 110],\n",
            "        ...,\n",
            "        [123, 135, 139],\n",
            "        [123, 135, 139],\n",
            "        [123, 135, 139]]], dtype=uint8)\n",
            " array([1., 0.])]\n"
          ],
          "name": "stdout"
        },
        {
          "output_type": "stream",
          "text": [
            "\n"
          ],
          "name": "stderr"
        }
      ]
    },
    {
      "cell_type": "code",
      "metadata": {
        "id": "mdsYGKGLKr7W",
        "colab_type": "code",
        "colab": {
          "base_uri": "https://localhost:8080/",
          "height": 34
        },
        "outputId": "a1de3fab-1616-40fa-f609-66ed09b38b50"
      },
      "source": [
        "print(len(train_data))"
      ],
      "execution_count": 10,
      "outputs": [
        {
          "output_type": "stream",
          "text": [
            "24999\n"
          ],
          "name": "stdout"
        }
      ]
    }
  ]
}