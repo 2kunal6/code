{
  "nbformat": 4,
  "nbformat_minor": 0,
  "metadata": {
    "colab": {
      "name": "transfer_learning.ipynb",
      "provenance": [],
      "collapsed_sections": []
    },
    "kernelspec": {
      "name": "python3",
      "display_name": "Python 3"
    },
    "accelerator": "GPU"
  },
  "cells": [
    {
      "cell_type": "code",
      "metadata": {
        "id": "kBKqvrQviypU",
        "colab_type": "code",
        "outputId": "ec388f06-7925-4d48-fa93-6ff25bf4a9f1",
        "colab": {
          "base_uri": "https://localhost:8080/",
          "height": 884
        }
      },
      "source": [
        "import glob \n",
        "import zipfile\n",
        "import numpy as np\n",
        "import cv2\n",
        "import os\n",
        "import time\n",
        "\n",
        "from tqdm import tqdm\n",
        "import torch\n",
        "import torch.nn as nn\n",
        "import torch.nn.functional as F\n",
        "import torch.optim as optim\n",
        "from torchvision import models\n",
        "\n",
        "import pandas as pd\n",
        "from sklearn.model_selection import train_test_split\n",
        "\n",
        "\n",
        "data_root_path = 'drive/My Drive/colab_data/dogs-vs-cats/numpy_folder/'\n",
        "\n",
        "train_data = []     \n",
        "def read_data_from_npy_zip():\n",
        "    for f in tqdm(os.listdir(data_root_path)):\n",
        "      path = os.path.join(data_root_path, f)\n",
        "      train_data.extend(np.load(path, allow_pickle=True))\n",
        "\n",
        "read_data_from_npy_zip()\n",
        "\n",
        "np.random.shuffle(train_data)\n",
        "print(len(train_data), train_data[0])"
      ],
      "execution_count": 3,
      "outputs": [
        {
          "output_type": "stream",
          "text": [
            "100%|██████████| 26/26 [01:08<00:00,  2.65s/it]"
          ],
          "name": "stderr"
        },
        {
          "output_type": "stream",
          "text": [
            "25000 [array([[[ 59,  50,  63],\n",
            "        [ 54,  47,  60],\n",
            "        [ 56,  53,  63],\n",
            "        ...,\n",
            "        [112, 100,  95],\n",
            "        [136, 122, 114],\n",
            "        [137, 115, 110]],\n",
            "\n",
            "       [[ 65,  56,  69],\n",
            "        [ 57,  50,  63],\n",
            "        [ 54,  50,  61],\n",
            "        ...,\n",
            "        [ 88,  76,  70],\n",
            "        [127, 114, 104],\n",
            "        [146, 129, 118]],\n",
            "\n",
            "       [[ 73,  63,  76],\n",
            "        [ 63,  57,  68],\n",
            "        [ 54,  50,  61],\n",
            "        ...,\n",
            "        [ 73,  62,  56],\n",
            "        [128, 118, 107],\n",
            "        [139, 128, 112]],\n",
            "\n",
            "       ...,\n",
            "\n",
            "       [[ 53,  49,  55],\n",
            "        [ 49,  47,  53],\n",
            "        [ 55,  53,  59],\n",
            "        ...,\n",
            "        [ 86,  85,  87],\n",
            "        [ 90,  87,  89],\n",
            "        [ 93,  90,  90]],\n",
            "\n",
            "       [[ 44,  40,  46],\n",
            "        [ 47,  45,  51],\n",
            "        [ 51,  49,  55],\n",
            "        ...,\n",
            "        [ 93,  92,  94],\n",
            "        [ 95,  92,  94],\n",
            "        [ 98,  96,  96]],\n",
            "\n",
            "       [[ 44,  40,  46],\n",
            "        [ 50,  48,  54],\n",
            "        [ 53,  51,  57],\n",
            "        ...,\n",
            "        [ 88,  87,  89],\n",
            "        [ 93,  90,  92],\n",
            "        [ 95,  93,  93]]], dtype=uint8)\n",
            " array([0., 1.])]\n"
          ],
          "name": "stdout"
        },
        {
          "output_type": "stream",
          "text": [
            "\n"
          ],
          "name": "stderr"
        }
      ]
    },
    {
      "cell_type": "code",
      "metadata": {
        "id": "ARrwEVqglkzS",
        "colab_type": "code",
        "colab": {
          "base_uri": "https://localhost:8080/",
          "height": 51
        },
        "outputId": "fe9081eb-903c-47d4-d48e-5802d750fbca"
      },
      "source": [
        "print(len(train_data))\n",
        "print(train_data[0][0].shape)"
      ],
      "execution_count": 9,
      "outputs": [
        {
          "output_type": "stream",
          "text": [
            "25000\n",
            "(224, 224, 3)\n"
          ],
          "name": "stdout"
        }
      ]
    },
    {
      "cell_type": "code",
      "metadata": {
        "id": "nw4rXfzfMIEw",
        "colab_type": "code",
        "outputId": "4a3a3be7-d043-4198-80de-45fe1342a171",
        "colab": {
          "base_uri": "https://localhost:8080/",
          "height": 1000
        }
      },
      "source": [
        "if torch.cuda.is_available():\n",
        "    device = torch.device(\"cuda:0\")  # you can continue going on here, like cuda:1 cuda:2....etc. \n",
        "    print(\"Running on the GPU\")\n",
        "else:\n",
        "    device = torch.device(\"cpu\")\n",
        "    print(\"Running on the CPU\")\n",
        "\n",
        "IMAGE_SIZE = (224, 224)\n",
        "\n",
        "net = models.resnet18(pretrained=True).to(device)\n",
        "# Here the size of each output sample is set to 2.\n",
        "# Alternatively, it can be generalized to nn.Linear(num_ftrs, len(class_names)).\n",
        "net.fc = nn.Linear(net.fc.in_features, 2).to(device)\n",
        "\n",
        "\n",
        "def run(X, y, is_training=True):\n",
        "    \n",
        "    optimizer = optim.Adam(net.parameters(), lr=0.001)\n",
        "    loss_function = nn.MSELoss()\n",
        "    \n",
        "    if is_training:\n",
        "        net.zero_grad()\n",
        "        optimizer.zero_grad()\n",
        "        \n",
        "    outputs = net(X)\n",
        "    matches  = [torch.argmax(i)==torch.argmax(j) for i, j in zip(outputs, y)]\n",
        "    acc = matches.count(True)/len(matches)\n",
        "    loss = loss_function(outputs, y)\n",
        "\n",
        "    if is_training:\n",
        "        loss.backward()\n",
        "        optimizer.step()\n",
        "\n",
        "    return acc, loss\n",
        "\n",
        "def batch_and_run(t_data, is_training=True):\n",
        "    BATCH_SIZE = 64\n",
        "    for i in tqdm(range(0, len(t_data), BATCH_SIZE)):\n",
        "        batch = t_data[i:i+BATCH_SIZE]\n",
        "\n",
        "        print(len(batch))\n",
        "        print(len(batch[0]))\n",
        "\n",
        "        batch_X = torch.Tensor([np.moveaxis(x[0], -1, 0) for x in batch])\n",
        "        batch_X = batch_X/255.0\n",
        "        batch_y = torch.Tensor([x[1] for x in batch])\n",
        "\n",
        "        batch_X = batch_X.to(device)\n",
        "        batch_y = batch_y.to(device)\n",
        "\n",
        "        return run(batch_X, batch_y, is_training)\n",
        "\n",
        "\n",
        "def train(net):\n",
        "    EPOCHS = 20  \n",
        "    for epoch in range(EPOCHS):\n",
        "        acc, loss = batch_and_run(train_data, True)\n",
        "        #val_acc, val_loss = batch_and_run(X_test, y_test, False)\n",
        "        print(f\"Epoch: {epoch}, {round(time.time(),3)},{round(float(acc),2)},{round(float(loss), 4)}\\n\")\n",
        "        \n",
        "train(net)\n",
        "\n",
        "\n",
        "predictions=[]\n",
        "id_line=[]\n",
        "def test(net):\n",
        "    for f in os.listdir(test_path):\n",
        "        id_line.append(f.split('.')[0])\n",
        "        path = os.path.join(test_path, f)\n",
        "        img=cv2.imread(path, cv2.IMREAD_GRAYSCALE)\n",
        "        img=cv2.resize(img, (50, 50))\n",
        "        test_X = torch.Tensor(img).view(-1, IMAGE_SIZE)\n",
        "        test_X = test_X.to(device)\n",
        "        net_out = net(test_X)\n",
        "        \n",
        "        predictions.append(torch.argmax(net_out))\n",
        "\n",
        "test(net)\n",
        "\n",
        "predicted_val = [x.tolist() for x in predictions]\n",
        "print(predicted_val)"
      ],
      "execution_count": 6,
      "outputs": [
        {
          "output_type": "stream",
          "text": [
            "Running on the GPU\n"
          ],
          "name": "stdout"
        },
        {
          "output_type": "stream",
          "text": [
            "\r  0%|          | 0/391 [00:00<?, ?it/s]"
          ],
          "name": "stderr"
        },
        {
          "output_type": "stream",
          "text": [
            "64\n",
            "2\n"
          ],
          "name": "stdout"
        },
        {
          "output_type": "stream",
          "text": [
            "  0%|          | 0/391 [00:01<?, ?it/s]\n",
            "  0%|          | 0/391 [00:00<?, ?it/s]"
          ],
          "name": "stderr"
        },
        {
          "output_type": "stream",
          "text": [
            "Epoch: 0, 1589704931.822,0.52,1.3793\n",
            "\n",
            "64\n",
            "2\n"
          ],
          "name": "stdout"
        },
        {
          "output_type": "stream",
          "text": [
            "  0%|          | 0/391 [00:01<?, ?it/s]\n",
            "  0%|          | 0/391 [00:00<?, ?it/s]"
          ],
          "name": "stderr"
        },
        {
          "output_type": "stream",
          "text": [
            "Epoch: 1, 1589704933.307,0.98,4.066\n",
            "\n",
            "64\n",
            "2\n"
          ],
          "name": "stdout"
        },
        {
          "output_type": "stream",
          "text": [
            "  0%|          | 0/391 [00:01<?, ?it/s]\n",
            "  0%|          | 0/391 [00:00<?, ?it/s]"
          ],
          "name": "stderr"
        },
        {
          "output_type": "stream",
          "text": [
            "Epoch: 2, 1589704934.764,0.19,5.0555\n",
            "\n",
            "64\n",
            "2\n"
          ],
          "name": "stdout"
        },
        {
          "output_type": "stream",
          "text": [
            "  0%|          | 0/391 [00:01<?, ?it/s]\n",
            "  0%|          | 0/391 [00:00<?, ?it/s]"
          ],
          "name": "stderr"
        },
        {
          "output_type": "stream",
          "text": [
            "Epoch: 3, 1589704936.211,0.55,1.2348\n",
            "\n",
            "64\n",
            "2\n"
          ],
          "name": "stdout"
        },
        {
          "output_type": "stream",
          "text": [
            "  0%|          | 0/391 [00:01<?, ?it/s]\n",
            "  0%|          | 0/391 [00:00<?, ?it/s]"
          ],
          "name": "stderr"
        },
        {
          "output_type": "stream",
          "text": [
            "Epoch: 4, 1589704937.67,0.72,0.4552\n",
            "\n",
            "64\n",
            "2\n"
          ],
          "name": "stdout"
        },
        {
          "output_type": "stream",
          "text": [
            "  0%|          | 0/391 [00:01<?, ?it/s]\n",
            "  0%|          | 0/391 [00:00<?, ?it/s]"
          ],
          "name": "stderr"
        },
        {
          "output_type": "stream",
          "text": [
            "Epoch: 5, 1589704939.13,0.53,0.8746\n",
            "\n",
            "64\n",
            "2\n"
          ],
          "name": "stdout"
        },
        {
          "output_type": "stream",
          "text": [
            "  0%|          | 0/391 [00:01<?, ?it/s]\n",
            "  0%|          | 0/391 [00:00<?, ?it/s]"
          ],
          "name": "stderr"
        },
        {
          "output_type": "stream",
          "text": [
            "Epoch: 6, 1589704940.598,0.44,1.4475\n",
            "\n",
            "64\n",
            "2\n"
          ],
          "name": "stdout"
        },
        {
          "output_type": "stream",
          "text": [
            "  0%|          | 0/391 [00:01<?, ?it/s]\n",
            "  0%|          | 0/391 [00:00<?, ?it/s]"
          ],
          "name": "stderr"
        },
        {
          "output_type": "stream",
          "text": [
            "Epoch: 7, 1589704942.04,0.83,0.2303\n",
            "\n",
            "64\n",
            "2\n"
          ],
          "name": "stdout"
        },
        {
          "output_type": "stream",
          "text": [
            "  0%|          | 0/391 [00:01<?, ?it/s]\n",
            "  0%|          | 0/391 [00:00<?, ?it/s]"
          ],
          "name": "stderr"
        },
        {
          "output_type": "stream",
          "text": [
            "Epoch: 8, 1589704943.452,0.61,0.7865\n",
            "\n",
            "64\n",
            "2\n"
          ],
          "name": "stdout"
        },
        {
          "output_type": "stream",
          "text": [
            "  0%|          | 0/391 [00:01<?, ?it/s]\n",
            "  0%|          | 0/391 [00:00<?, ?it/s]"
          ],
          "name": "stderr"
        },
        {
          "output_type": "stream",
          "text": [
            "Epoch: 9, 1589704944.9,0.91,0.1104\n",
            "\n",
            "64\n",
            "2\n"
          ],
          "name": "stdout"
        },
        {
          "output_type": "stream",
          "text": [
            "  0%|          | 0/391 [00:01<?, ?it/s]\n",
            "  0%|          | 0/391 [00:00<?, ?it/s]"
          ],
          "name": "stderr"
        },
        {
          "output_type": "stream",
          "text": [
            "Epoch: 10, 1589704946.327,0.86,0.4984\n",
            "\n",
            "64\n",
            "2\n"
          ],
          "name": "stdout"
        },
        {
          "output_type": "stream",
          "text": [
            "  0%|          | 0/391 [00:01<?, ?it/s]\n",
            "  0%|          | 0/391 [00:00<?, ?it/s]"
          ],
          "name": "stderr"
        },
        {
          "output_type": "stream",
          "text": [
            "Epoch: 11, 1589704947.779,0.98,0.4344\n",
            "\n",
            "64\n",
            "2\n"
          ],
          "name": "stdout"
        },
        {
          "output_type": "stream",
          "text": [
            "  0%|          | 0/391 [00:01<?, ?it/s]\n",
            "  0%|          | 0/391 [00:00<?, ?it/s]"
          ],
          "name": "stderr"
        },
        {
          "output_type": "stream",
          "text": [
            "Epoch: 12, 1589704949.22,0.44,0.298\n",
            "\n",
            "64\n",
            "2\n"
          ],
          "name": "stdout"
        },
        {
          "output_type": "stream",
          "text": [
            "  0%|          | 0/391 [00:01<?, ?it/s]\n",
            "  0%|          | 0/391 [00:00<?, ?it/s]"
          ],
          "name": "stderr"
        },
        {
          "output_type": "stream",
          "text": [
            "Epoch: 13, 1589704950.644,0.86,0.2491\n",
            "\n",
            "64\n",
            "2\n"
          ],
          "name": "stdout"
        },
        {
          "output_type": "stream",
          "text": [
            "  0%|          | 0/391 [00:01<?, ?it/s]\n",
            "  0%|          | 0/391 [00:00<?, ?it/s]"
          ],
          "name": "stderr"
        },
        {
          "output_type": "stream",
          "text": [
            "Epoch: 14, 1589704952.085,0.97,0.1261\n",
            "\n",
            "64\n",
            "2\n"
          ],
          "name": "stdout"
        },
        {
          "output_type": "stream",
          "text": [
            "  0%|          | 0/391 [00:01<?, ?it/s]\n",
            "  0%|          | 0/391 [00:00<?, ?it/s]"
          ],
          "name": "stderr"
        },
        {
          "output_type": "stream",
          "text": [
            "Epoch: 15, 1589704953.503,0.59,0.2531\n",
            "\n",
            "64\n",
            "2\n"
          ],
          "name": "stdout"
        },
        {
          "output_type": "stream",
          "text": [
            "  0%|          | 0/391 [00:01<?, ?it/s]\n",
            "  0%|          | 0/391 [00:00<?, ?it/s]"
          ],
          "name": "stderr"
        },
        {
          "output_type": "stream",
          "text": [
            "Epoch: 16, 1589704954.943,0.98,0.0841\n",
            "\n",
            "64\n",
            "2\n"
          ],
          "name": "stdout"
        },
        {
          "output_type": "stream",
          "text": [
            "  0%|          | 0/391 [00:01<?, ?it/s]\n",
            "  0%|          | 0/391 [00:00<?, ?it/s]"
          ],
          "name": "stderr"
        },
        {
          "output_type": "stream",
          "text": [
            "Epoch: 17, 1589704956.36,0.72,0.243\n",
            "\n",
            "64\n",
            "2\n"
          ],
          "name": "stdout"
        },
        {
          "output_type": "stream",
          "text": [
            "  0%|          | 0/391 [00:01<?, ?it/s]\n",
            "  0%|          | 0/391 [00:00<?, ?it/s]"
          ],
          "name": "stderr"
        },
        {
          "output_type": "stream",
          "text": [
            "Epoch: 18, 1589704957.819,0.98,0.0677\n",
            "\n",
            "64\n",
            "2\n"
          ],
          "name": "stdout"
        },
        {
          "output_type": "stream",
          "text": [
            "\r  0%|          | 0/391 [00:01<?, ?it/s]\n"
          ],
          "name": "stderr"
        },
        {
          "output_type": "stream",
          "text": [
            "Epoch: 19, 1589704959.262,1.0,0.1554\n",
            "\n"
          ],
          "name": "stdout"
        },
        {
          "output_type": "error",
          "ename": "NameError",
          "evalue": "ignored",
          "traceback": [
            "\u001b[0;31m---------------------------------------------------------------------------\u001b[0m",
            "\u001b[0;31mNameError\u001b[0m                                 Traceback (most recent call last)",
            "\u001b[0;32m<ipython-input-6-e5d2f16d7622>\u001b[0m in \u001b[0;36m<module>\u001b[0;34m()\u001b[0m\n\u001b[1;32m     76\u001b[0m         \u001b[0mpredictions\u001b[0m\u001b[0;34m.\u001b[0m\u001b[0mappend\u001b[0m\u001b[0;34m(\u001b[0m\u001b[0mtorch\u001b[0m\u001b[0;34m.\u001b[0m\u001b[0margmax\u001b[0m\u001b[0;34m(\u001b[0m\u001b[0mnet_out\u001b[0m\u001b[0;34m)\u001b[0m\u001b[0;34m)\u001b[0m\u001b[0;34m\u001b[0m\u001b[0;34m\u001b[0m\u001b[0m\n\u001b[1;32m     77\u001b[0m \u001b[0;34m\u001b[0m\u001b[0m\n\u001b[0;32m---> 78\u001b[0;31m \u001b[0mtest\u001b[0m\u001b[0;34m(\u001b[0m\u001b[0mnet\u001b[0m\u001b[0;34m)\u001b[0m\u001b[0;34m\u001b[0m\u001b[0;34m\u001b[0m\u001b[0m\n\u001b[0m\u001b[1;32m     79\u001b[0m \u001b[0;34m\u001b[0m\u001b[0m\n\u001b[1;32m     80\u001b[0m \u001b[0mpredicted_val\u001b[0m \u001b[0;34m=\u001b[0m \u001b[0;34m[\u001b[0m\u001b[0mx\u001b[0m\u001b[0;34m.\u001b[0m\u001b[0mtolist\u001b[0m\u001b[0;34m(\u001b[0m\u001b[0;34m)\u001b[0m \u001b[0;32mfor\u001b[0m \u001b[0mx\u001b[0m \u001b[0;32min\u001b[0m \u001b[0mpredictions\u001b[0m\u001b[0;34m]\u001b[0m\u001b[0;34m\u001b[0m\u001b[0;34m\u001b[0m\u001b[0m\n",
            "\u001b[0;32m<ipython-input-6-e5d2f16d7622>\u001b[0m in \u001b[0;36mtest\u001b[0;34m(net)\u001b[0m\n\u001b[1;32m     65\u001b[0m \u001b[0mid_line\u001b[0m\u001b[0;34m=\u001b[0m\u001b[0;34m[\u001b[0m\u001b[0;34m]\u001b[0m\u001b[0;34m\u001b[0m\u001b[0;34m\u001b[0m\u001b[0m\n\u001b[1;32m     66\u001b[0m \u001b[0;32mdef\u001b[0m \u001b[0mtest\u001b[0m\u001b[0;34m(\u001b[0m\u001b[0mnet\u001b[0m\u001b[0;34m)\u001b[0m\u001b[0;34m:\u001b[0m\u001b[0;34m\u001b[0m\u001b[0;34m\u001b[0m\u001b[0m\n\u001b[0;32m---> 67\u001b[0;31m     \u001b[0;32mfor\u001b[0m \u001b[0mf\u001b[0m \u001b[0;32min\u001b[0m \u001b[0mos\u001b[0m\u001b[0;34m.\u001b[0m\u001b[0mlistdir\u001b[0m\u001b[0;34m(\u001b[0m\u001b[0mtest_path\u001b[0m\u001b[0;34m)\u001b[0m\u001b[0;34m:\u001b[0m\u001b[0;34m\u001b[0m\u001b[0;34m\u001b[0m\u001b[0m\n\u001b[0m\u001b[1;32m     68\u001b[0m         \u001b[0mid_line\u001b[0m\u001b[0;34m.\u001b[0m\u001b[0mappend\u001b[0m\u001b[0;34m(\u001b[0m\u001b[0mf\u001b[0m\u001b[0;34m.\u001b[0m\u001b[0msplit\u001b[0m\u001b[0;34m(\u001b[0m\u001b[0;34m'.'\u001b[0m\u001b[0;34m)\u001b[0m\u001b[0;34m[\u001b[0m\u001b[0;36m0\u001b[0m\u001b[0;34m]\u001b[0m\u001b[0;34m)\u001b[0m\u001b[0;34m\u001b[0m\u001b[0;34m\u001b[0m\u001b[0m\n\u001b[1;32m     69\u001b[0m         \u001b[0mpath\u001b[0m \u001b[0;34m=\u001b[0m \u001b[0mos\u001b[0m\u001b[0;34m.\u001b[0m\u001b[0mpath\u001b[0m\u001b[0;34m.\u001b[0m\u001b[0mjoin\u001b[0m\u001b[0;34m(\u001b[0m\u001b[0mtest_path\u001b[0m\u001b[0;34m,\u001b[0m \u001b[0mf\u001b[0m\u001b[0;34m)\u001b[0m\u001b[0;34m\u001b[0m\u001b[0;34m\u001b[0m\u001b[0m\n",
            "\u001b[0;31mNameError\u001b[0m: name 'test_path' is not defined"
          ]
        }
      ]
    }
  ]
}