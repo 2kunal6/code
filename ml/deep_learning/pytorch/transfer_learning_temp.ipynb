{
  "nbformat": 4,
  "nbformat_minor": 0,
  "metadata": {
    "colab": {
      "name": "transfer_learning.ipynb",
      "provenance": [],
      "collapsed_sections": []
    },
    "kernelspec": {
      "name": "python3",
      "display_name": "Python 3"
    },
    "accelerator": "GPU"
  },
  "cells": [
    {
      "cell_type": "code",
      "metadata": {
        "id": "kBKqvrQviypU",
        "colab_type": "code",
        "outputId": "11e84c68-3de2-419d-dcc9-1628b78a3c8e",
        "colab": {
          "base_uri": "https://localhost:8080/",
          "height": 884
        }
      },
      "source": [
        "import glob \n",
        "import zipfile\n",
        "import numpy as np\n",
        "import cv2\n",
        "import os\n",
        "import time\n",
        "\n",
        "from tqdm import tqdm\n",
        "import torch\n",
        "import torch.nn as nn\n",
        "import torch.nn.functional as F\n",
        "import torch.optim as optim\n",
        "from torchvision import models\n",
        "\n",
        "import pandas as pd\n",
        "from sklearn.model_selection import train_test_split\n",
        "\n",
        "\n",
        "data_root_path = 'drive/My Drive/colab_data/dogs-vs-cats/numpy_folder/'\n",
        "\n",
        "train_data = []     \n",
        "def read_data_from_npy_zip():\n",
        "    for f in tqdm(os.listdir(data_root_path)):\n",
        "      path = os.path.join(data_root_path, f)\n",
        "      train_data.extend(np.load(path, allow_pickle=True))\n",
        "\n",
        "read_data_from_npy_zip()\n",
        "\n",
        "np.random.shuffle(train_data)\n",
        "print(len(train_data), train_data[0])"
      ],
      "execution_count": 2,
      "outputs": [
        {
          "output_type": "stream",
          "text": [
            "100%|██████████| 26/26 [01:09<00:00,  2.68s/it]"
          ],
          "name": "stderr"
        },
        {
          "output_type": "stream",
          "text": [
            "25000 [array([[[ 38,  41,  45],\n",
            "        [ 38,  41,  45],\n",
            "        [ 39,  42,  46],\n",
            "        ...,\n",
            "        [122, 139, 142],\n",
            "        [121, 138, 141],\n",
            "        [121, 138, 141]],\n",
            "\n",
            "       [[ 38,  41,  45],\n",
            "        [ 38,  41,  45],\n",
            "        [ 39,  42,  46],\n",
            "        ...,\n",
            "        [128, 145, 148],\n",
            "        [125, 142, 145],\n",
            "        [123, 140, 143]],\n",
            "\n",
            "       [[ 38,  41,  45],\n",
            "        [ 38,  41,  45],\n",
            "        [ 39,  42,  46],\n",
            "        ...,\n",
            "        [135, 154, 157],\n",
            "        [131, 149, 152],\n",
            "        [127, 145, 148]],\n",
            "\n",
            "       ...,\n",
            "\n",
            "       [[228, 241, 235],\n",
            "        [228, 240, 234],\n",
            "        [217, 229, 223],\n",
            "        ...,\n",
            "        [162,  93, 173],\n",
            "        [161,  92, 172],\n",
            "        [160,  91, 171]],\n",
            "\n",
            "       [[221, 233, 227],\n",
            "        [236, 248, 242],\n",
            "        [236, 248, 242],\n",
            "        ...,\n",
            "        [162,  93, 173],\n",
            "        [161,  92, 172],\n",
            "        [159,  90, 170]],\n",
            "\n",
            "       [[231, 243, 237],\n",
            "        [236, 248, 242],\n",
            "        [242, 254, 248],\n",
            "        ...,\n",
            "        [160,  91, 171],\n",
            "        [161,  92, 172],\n",
            "        [155,  86, 166]]], dtype=uint8)\n",
            " array([1., 0.])]\n"
          ],
          "name": "stdout"
        },
        {
          "output_type": "stream",
          "text": [
            "\n"
          ],
          "name": "stderr"
        }
      ]
    },
    {
      "cell_type": "code",
      "metadata": {
        "id": "S_AWUyoA5_qc",
        "colab_type": "code",
        "colab": {
          "base_uri": "https://localhost:8080/",
          "height": 122
        },
        "outputId": "f5cf7bd4-d3fc-4eb1-c013-f850bf65adee"
      },
      "source": [
        "from google.colab import drive\n",
        "drive.mount('/content/drive')"
      ],
      "execution_count": 1,
      "outputs": [
        {
          "output_type": "stream",
          "text": [
            "Go to this URL in a browser: https://accounts.google.com/o/oauth2/auth?client_id=947318989803-6bn6qk8qdgf4n4g3pfee6491hc0brc4i.apps.googleusercontent.com&redirect_uri=urn%3aietf%3awg%3aoauth%3a2.0%3aoob&response_type=code&scope=email%20https%3a%2f%2fwww.googleapis.com%2fauth%2fdocs.test%20https%3a%2f%2fwww.googleapis.com%2fauth%2fdrive%20https%3a%2f%2fwww.googleapis.com%2fauth%2fdrive.photos.readonly%20https%3a%2f%2fwww.googleapis.com%2fauth%2fpeopleapi.readonly\n",
            "\n",
            "Enter your authorization code:\n",
            "··········\n",
            "Mounted at /content/drive\n"
          ],
          "name": "stdout"
        }
      ]
    },
    {
      "cell_type": "code",
      "metadata": {
        "id": "nw4rXfzfMIEw",
        "colab_type": "code",
        "outputId": "c786a581-1f1e-44dc-f738-bd2d9622314e",
        "colab": {
          "base_uri": "https://localhost:8080/",
          "height": 1000
        }
      },
      "source": [
        "if torch.cuda.is_available():\n",
        "    device = torch.device(\"cuda:0\")  # you can continue going on here, like cuda:1 cuda:2....etc. \n",
        "    print(\"Running on the GPU\")\n",
        "else:\n",
        "    device = torch.device(\"cpu\")\n",
        "    print(\"Running on the CPU\")\n",
        "\n",
        "IMAGE_SIZE = (224, 224)\n",
        "\n",
        "net = models.resnet18(pretrained=True).to(device)\n",
        "# Here the size of each output sample is set to 2.\n",
        "# Alternatively, it can be generalized to nn.Linear(num_ftrs, len(class_names)).\n",
        "net.fc = nn.Linear(net.fc.in_features, 2)\n",
        "\n",
        "\n",
        "def run(X, y, is_training=True):\n",
        "    \n",
        "    optimizer = optim.Adam(net.parameters(), lr=0.001)\n",
        "    loss_function = nn.MSELoss()\n",
        "    \n",
        "    if is_training:\n",
        "        net.zero_grad()\n",
        "        optimizer.zero_grad()\n",
        "        \n",
        "    outputs = net(X)\n",
        "    matches  = [torch.argmax(i)==torch.argmax(j) for i, j in zip(outputs, y)]\n",
        "    acc = matches.count(True)/len(matches)\n",
        "    loss = loss_function(outputs, y)\n",
        "\n",
        "    if is_training:\n",
        "        loss.backward()\n",
        "        optimizer.step()\n",
        "\n",
        "    return acc, loss\n",
        "\n",
        "def batch_and_run(X, y, is_training=True):\n",
        "    BATCH_SIZE = 64\n",
        "    for i in tqdm(range(0, len(X), BATCH_SIZE)):\n",
        "        batch_X = X[i:i+BATCH_SIZE]\n",
        "        batch_y = y[i:i+BATCH_SIZE]\n",
        "\n",
        "        print(len(batch_X))\n",
        "        print(batch_y)\n",
        "            \n",
        "        m_X = torch.Tensor([i for i in batch_X])\n",
        "        m_X = m_X/255.0\n",
        "        m_y = torch.Tensor([i for i in batch_y])\n",
        "\n",
        "        m_X = m_X.to(device)\n",
        "        m_y = m_y.to(device)\n",
        "\n",
        "        return run(m_X, m_y, is_training)\n",
        "\n",
        "\n",
        "def train(net):\n",
        "    EPOCHS = 20  \n",
        "    for epoch in range(EPOCHS):\n",
        "        acc, loss = batch_and_run(train_data[0], train_data[1], True)\n",
        "        #val_acc, val_loss = batch_and_run(X_test, y_test, False)\n",
        "        print(f\"Epoch: {epoch}, {round(time.time(),3)},{round(float(acc),2)},{round(float(loss), 4)}\\n\")\n",
        "        \n",
        "train(net)\n",
        "\n",
        "\n",
        "predictions=[]\n",
        "id_line=[]\n",
        "def test(net):\n",
        "    for f in os.listdir(test_path):\n",
        "        id_line.append(f.split('.')[0])\n",
        "        path = os.path.join(test_path, f)\n",
        "        img=cv2.imread(path, cv2.IMREAD_GRAYSCALE)\n",
        "        img=cv2.resize(img, (50, 50))\n",
        "        test_X = torch.Tensor(img).view(-1, IMAGE_SIZE)\n",
        "        test_X = test_X.to(device)\n",
        "        net_out = net(test_X)\n",
        "        \n",
        "        predictions.append(torch.argmax(net_out))\n",
        "\n",
        "test(net)\n",
        "\n",
        "predicted_val = [x.tolist() for x in predictions]\n",
        "print(predicted_val)"
      ],
      "execution_count": 12,
      "outputs": [
        {
          "output_type": "stream",
          "text": [
            "Running on the GPU\n"
          ],
          "name": "stdout"
        },
        {
          "output_type": "stream",
          "text": [
            "  0%|          | 0/1 [00:00<?, ?it/s]"
          ],
          "name": "stderr"
        },
        {
          "output_type": "stream",
          "text": [
            "2\n",
            "[array([[[ 71, 100, 105],\n",
            "        [ 69, 100, 105],\n",
            "        [ 64, 101, 105],\n",
            "        ...,\n",
            "        [ 22,  41,  44],\n",
            "        [ 22,  41,  44],\n",
            "        [ 25,  42,  45]],\n",
            "\n",
            "       [[ 73, 102, 107],\n",
            "        [ 71, 102, 107],\n",
            "        [ 66, 103, 107],\n",
            "        ...,\n",
            "        [ 22,  41,  44],\n",
            "        [ 23,  42,  45],\n",
            "        [ 26,  43,  46]],\n",
            "\n",
            "       [[ 72, 101, 106],\n",
            "        [ 71, 101, 106],\n",
            "        [ 65, 102, 106],\n",
            "        ...,\n",
            "        [ 22,  41,  45],\n",
            "        [ 23,  42,  45],\n",
            "        [ 26,  43,  46]],\n",
            "\n",
            "       ...,\n",
            "\n",
            "       [[105, 107, 107],\n",
            "        [107, 109, 109],\n",
            "        [110, 112, 112],\n",
            "        ...,\n",
            "        [177, 175, 175],\n",
            "        [177, 175, 175],\n",
            "        [177, 175, 175]],\n",
            "\n",
            "       [[107, 109, 109],\n",
            "        [108, 110, 110],\n",
            "        [111, 113, 113],\n",
            "        ...,\n",
            "        [181, 179, 179],\n",
            "        [181, 179, 178],\n",
            "        [181, 179, 178]],\n",
            "\n",
            "       [[106, 108, 108],\n",
            "        [107, 109, 109],\n",
            "        [110, 112, 112],\n",
            "        ...,\n",
            "        [184, 182, 181],\n",
            "        [184, 182, 181],\n",
            "        [184, 182, 181]]], dtype=uint8)\n",
            " array([1., 0.])]\n"
          ],
          "name": "stdout"
        },
        {
          "output_type": "stream",
          "text": [
            "\n"
          ],
          "name": "stderr"
        },
        {
          "output_type": "error",
          "ename": "ValueError",
          "evalue": "ignored",
          "traceback": [
            "\u001b[0;31m---------------------------------------------------------------------------\u001b[0m",
            "\u001b[0;31mValueError\u001b[0m                                Traceback (most recent call last)",
            "\u001b[0;32m<ipython-input-12-d7c9febfbdfe>\u001b[0m in \u001b[0;36m<module>\u001b[0;34m()\u001b[0m\n\u001b[1;32m     60\u001b[0m         \u001b[0mprint\u001b[0m\u001b[0;34m(\u001b[0m\u001b[0;34mf\"Epoch: {epoch}, {round(time.time(),3)},{round(float(acc),2)},{round(float(loss), 4)}\\n\"\u001b[0m\u001b[0;34m)\u001b[0m\u001b[0;34m\u001b[0m\u001b[0;34m\u001b[0m\u001b[0m\n\u001b[1;32m     61\u001b[0m \u001b[0;34m\u001b[0m\u001b[0m\n\u001b[0;32m---> 62\u001b[0;31m \u001b[0mtrain\u001b[0m\u001b[0;34m(\u001b[0m\u001b[0mnet\u001b[0m\u001b[0;34m)\u001b[0m\u001b[0;34m\u001b[0m\u001b[0;34m\u001b[0m\u001b[0m\n\u001b[0m\u001b[1;32m     63\u001b[0m \u001b[0;34m\u001b[0m\u001b[0m\n\u001b[1;32m     64\u001b[0m \u001b[0;34m\u001b[0m\u001b[0m\n",
            "\u001b[0;32m<ipython-input-12-d7c9febfbdfe>\u001b[0m in \u001b[0;36mtrain\u001b[0;34m(net)\u001b[0m\n\u001b[1;32m     56\u001b[0m     \u001b[0mEPOCHS\u001b[0m \u001b[0;34m=\u001b[0m \u001b[0;36m20\u001b[0m\u001b[0;34m\u001b[0m\u001b[0;34m\u001b[0m\u001b[0m\n\u001b[1;32m     57\u001b[0m     \u001b[0;32mfor\u001b[0m \u001b[0mepoch\u001b[0m \u001b[0;32min\u001b[0m \u001b[0mrange\u001b[0m\u001b[0;34m(\u001b[0m\u001b[0mEPOCHS\u001b[0m\u001b[0;34m)\u001b[0m\u001b[0;34m:\u001b[0m\u001b[0;34m\u001b[0m\u001b[0;34m\u001b[0m\u001b[0m\n\u001b[0;32m---> 58\u001b[0;31m         \u001b[0macc\u001b[0m\u001b[0;34m,\u001b[0m \u001b[0mloss\u001b[0m \u001b[0;34m=\u001b[0m \u001b[0mbatch_and_run\u001b[0m\u001b[0;34m(\u001b[0m\u001b[0mtrain_data\u001b[0m\u001b[0;34m[\u001b[0m\u001b[0;36m0\u001b[0m\u001b[0;34m]\u001b[0m\u001b[0;34m,\u001b[0m \u001b[0mtrain_data\u001b[0m\u001b[0;34m[\u001b[0m\u001b[0;36m1\u001b[0m\u001b[0;34m]\u001b[0m\u001b[0;34m,\u001b[0m \u001b[0;32mTrue\u001b[0m\u001b[0;34m)\u001b[0m\u001b[0;34m\u001b[0m\u001b[0;34m\u001b[0m\u001b[0m\n\u001b[0m\u001b[1;32m     59\u001b[0m         \u001b[0;31m#val_acc, val_loss = batch_and_run(X_test, y_test, False)\u001b[0m\u001b[0;34m\u001b[0m\u001b[0;34m\u001b[0m\u001b[0;34m\u001b[0m\u001b[0m\n\u001b[1;32m     60\u001b[0m         \u001b[0mprint\u001b[0m\u001b[0;34m(\u001b[0m\u001b[0;34mf\"Epoch: {epoch}, {round(time.time(),3)},{round(float(acc),2)},{round(float(loss), 4)}\\n\"\u001b[0m\u001b[0;34m)\u001b[0m\u001b[0;34m\u001b[0m\u001b[0;34m\u001b[0m\u001b[0m\n",
            "\u001b[0;32m<ipython-input-12-d7c9febfbdfe>\u001b[0m in \u001b[0;36mbatch_and_run\u001b[0;34m(X, y, is_training)\u001b[0m\n\u001b[1;32m     43\u001b[0m         \u001b[0mprint\u001b[0m\u001b[0;34m(\u001b[0m\u001b[0mbatch_y\u001b[0m\u001b[0;34m)\u001b[0m\u001b[0;34m\u001b[0m\u001b[0;34m\u001b[0m\u001b[0m\n\u001b[1;32m     44\u001b[0m \u001b[0;34m\u001b[0m\u001b[0m\n\u001b[0;32m---> 45\u001b[0;31m         \u001b[0mm_X\u001b[0m \u001b[0;34m=\u001b[0m \u001b[0mtorch\u001b[0m\u001b[0;34m.\u001b[0m\u001b[0mTensor\u001b[0m\u001b[0;34m(\u001b[0m\u001b[0;34m[\u001b[0m\u001b[0mi\u001b[0m \u001b[0;32mfor\u001b[0m \u001b[0mi\u001b[0m \u001b[0;32min\u001b[0m \u001b[0mbatch_X\u001b[0m\u001b[0;34m]\u001b[0m\u001b[0;34m)\u001b[0m\u001b[0;34m\u001b[0m\u001b[0;34m\u001b[0m\u001b[0m\n\u001b[0m\u001b[1;32m     46\u001b[0m         \u001b[0mm_X\u001b[0m \u001b[0;34m=\u001b[0m \u001b[0mm_X\u001b[0m\u001b[0;34m/\u001b[0m\u001b[0;36m255.0\u001b[0m\u001b[0;34m\u001b[0m\u001b[0;34m\u001b[0m\u001b[0m\n\u001b[1;32m     47\u001b[0m         \u001b[0mm_y\u001b[0m \u001b[0;34m=\u001b[0m \u001b[0mtorch\u001b[0m\u001b[0;34m.\u001b[0m\u001b[0mTensor\u001b[0m\u001b[0;34m(\u001b[0m\u001b[0;34m[\u001b[0m\u001b[0mi\u001b[0m \u001b[0;32mfor\u001b[0m \u001b[0mi\u001b[0m \u001b[0;32min\u001b[0m \u001b[0mbatch_y\u001b[0m\u001b[0;34m]\u001b[0m\u001b[0;34m)\u001b[0m\u001b[0;34m\u001b[0m\u001b[0;34m\u001b[0m\u001b[0m\n",
            "\u001b[0;31mValueError\u001b[0m: expected sequence of length 224 at dim 1 (got 2)"
          ]
        }
      ]
    }
  ]
}